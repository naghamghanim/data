{
  "nbformat": 4,
  "nbformat_minor": 0,
  "metadata": {
    "colab": {
      "name": "train_sentiment.ipynb",
      "provenance": [],
      "include_colab_link": true
    },
    "kernelspec": {
      "name": "python3",
      "display_name": "Python 3"
    },
    "language_info": {
      "name": "python"
    },
    "accelerator": "GPU",
    "widgets": {
      "application/vnd.jupyter.widget-state+json": {
        "0a037d342aa54fafb014d63ed7f654c9": {
          "model_module": "@jupyter-widgets/controls",
          "model_name": "HBoxModel",
          "model_module_version": "1.5.0",
          "state": {
            "_dom_classes": [],
            "_model_module": "@jupyter-widgets/controls",
            "_model_module_version": "1.5.0",
            "_model_name": "HBoxModel",
            "_view_count": null,
            "_view_module": "@jupyter-widgets/controls",
            "_view_module_version": "1.5.0",
            "_view_name": "HBoxView",
            "box_style": "",
            "children": [
              "IPY_MODEL_024ed52b38724a2b8be760a58a71f8c5",
              "IPY_MODEL_2b05d4ab047649ae9101a9a58afb623b",
              "IPY_MODEL_9085e8cd4cdb41828d13e72c585579d2"
            ],
            "layout": "IPY_MODEL_f9fbed5f926246dfa750c3e28b966818"
          }
        },
        "024ed52b38724a2b8be760a58a71f8c5": {
          "model_module": "@jupyter-widgets/controls",
          "model_name": "HTMLModel",
          "model_module_version": "1.5.0",
          "state": {
            "_dom_classes": [],
            "_model_module": "@jupyter-widgets/controls",
            "_model_module_version": "1.5.0",
            "_model_name": "HTMLModel",
            "_view_count": null,
            "_view_module": "@jupyter-widgets/controls",
            "_view_module_version": "1.5.0",
            "_view_name": "HTMLView",
            "description": "",
            "description_tooltip": null,
            "layout": "IPY_MODEL_09289d28350f4e919a71fb187429ffe4",
            "placeholder": "​",
            "style": "IPY_MODEL_21cce4fe329643d387da055477850120",
            "value": "Downloading: 100%"
          }
        },
        "2b05d4ab047649ae9101a9a58afb623b": {
          "model_module": "@jupyter-widgets/controls",
          "model_name": "FloatProgressModel",
          "model_module_version": "1.5.0",
          "state": {
            "_dom_classes": [],
            "_model_module": "@jupyter-widgets/controls",
            "_model_module_version": "1.5.0",
            "_model_name": "FloatProgressModel",
            "_view_count": null,
            "_view_module": "@jupyter-widgets/controls",
            "_view_module_version": "1.5.0",
            "_view_name": "ProgressView",
            "bar_style": "success",
            "description": "",
            "description_tooltip": null,
            "layout": "IPY_MODEL_a69722fc77d24770b3e1cebc5ea2b37d",
            "max": 299405,
            "min": 0,
            "orientation": "horizontal",
            "style": "IPY_MODEL_de223b180ff745a7bdcd5ad9d908f5bd",
            "value": 299405
          }
        },
        "9085e8cd4cdb41828d13e72c585579d2": {
          "model_module": "@jupyter-widgets/controls",
          "model_name": "HTMLModel",
          "model_module_version": "1.5.0",
          "state": {
            "_dom_classes": [],
            "_model_module": "@jupyter-widgets/controls",
            "_model_module_version": "1.5.0",
            "_model_name": "HTMLModel",
            "_view_count": null,
            "_view_module": "@jupyter-widgets/controls",
            "_view_module_version": "1.5.0",
            "_view_name": "HTMLView",
            "description": "",
            "description_tooltip": null,
            "layout": "IPY_MODEL_1d4a038ea0324ce08ece59f34ecca51a",
            "placeholder": "​",
            "style": "IPY_MODEL_0772938615954660805584ac6ee4d927",
            "value": " 299k/299k [00:00&lt;00:00, 891kB/s]"
          }
        },
        "f9fbed5f926246dfa750c3e28b966818": {
          "model_module": "@jupyter-widgets/base",
          "model_name": "LayoutModel",
          "model_module_version": "1.2.0",
          "state": {
            "_model_module": "@jupyter-widgets/base",
            "_model_module_version": "1.2.0",
            "_model_name": "LayoutModel",
            "_view_count": null,
            "_view_module": "@jupyter-widgets/base",
            "_view_module_version": "1.2.0",
            "_view_name": "LayoutView",
            "align_content": null,
            "align_items": null,
            "align_self": null,
            "border": null,
            "bottom": null,
            "display": null,
            "flex": null,
            "flex_flow": null,
            "grid_area": null,
            "grid_auto_columns": null,
            "grid_auto_flow": null,
            "grid_auto_rows": null,
            "grid_column": null,
            "grid_gap": null,
            "grid_row": null,
            "grid_template_areas": null,
            "grid_template_columns": null,
            "grid_template_rows": null,
            "height": null,
            "justify_content": null,
            "justify_items": null,
            "left": null,
            "margin": null,
            "max_height": null,
            "max_width": null,
            "min_height": null,
            "min_width": null,
            "object_fit": null,
            "object_position": null,
            "order": null,
            "overflow": null,
            "overflow_x": null,
            "overflow_y": null,
            "padding": null,
            "right": null,
            "top": null,
            "visibility": null,
            "width": null
          }
        },
        "09289d28350f4e919a71fb187429ffe4": {
          "model_module": "@jupyter-widgets/base",
          "model_name": "LayoutModel",
          "model_module_version": "1.2.0",
          "state": {
            "_model_module": "@jupyter-widgets/base",
            "_model_module_version": "1.2.0",
            "_model_name": "LayoutModel",
            "_view_count": null,
            "_view_module": "@jupyter-widgets/base",
            "_view_module_version": "1.2.0",
            "_view_name": "LayoutView",
            "align_content": null,
            "align_items": null,
            "align_self": null,
            "border": null,
            "bottom": null,
            "display": null,
            "flex": null,
            "flex_flow": null,
            "grid_area": null,
            "grid_auto_columns": null,
            "grid_auto_flow": null,
            "grid_auto_rows": null,
            "grid_column": null,
            "grid_gap": null,
            "grid_row": null,
            "grid_template_areas": null,
            "grid_template_columns": null,
            "grid_template_rows": null,
            "height": null,
            "justify_content": null,
            "justify_items": null,
            "left": null,
            "margin": null,
            "max_height": null,
            "max_width": null,
            "min_height": null,
            "min_width": null,
            "object_fit": null,
            "object_position": null,
            "order": null,
            "overflow": null,
            "overflow_x": null,
            "overflow_y": null,
            "padding": null,
            "right": null,
            "top": null,
            "visibility": null,
            "width": null
          }
        },
        "21cce4fe329643d387da055477850120": {
          "model_module": "@jupyter-widgets/controls",
          "model_name": "DescriptionStyleModel",
          "model_module_version": "1.5.0",
          "state": {
            "_model_module": "@jupyter-widgets/controls",
            "_model_module_version": "1.5.0",
            "_model_name": "DescriptionStyleModel",
            "_view_count": null,
            "_view_module": "@jupyter-widgets/base",
            "_view_module_version": "1.2.0",
            "_view_name": "StyleView",
            "description_width": ""
          }
        },
        "a69722fc77d24770b3e1cebc5ea2b37d": {
          "model_module": "@jupyter-widgets/base",
          "model_name": "LayoutModel",
          "model_module_version": "1.2.0",
          "state": {
            "_model_module": "@jupyter-widgets/base",
            "_model_module_version": "1.2.0",
            "_model_name": "LayoutModel",
            "_view_count": null,
            "_view_module": "@jupyter-widgets/base",
            "_view_module_version": "1.2.0",
            "_view_name": "LayoutView",
            "align_content": null,
            "align_items": null,
            "align_self": null,
            "border": null,
            "bottom": null,
            "display": null,
            "flex": null,
            "flex_flow": null,
            "grid_area": null,
            "grid_auto_columns": null,
            "grid_auto_flow": null,
            "grid_auto_rows": null,
            "grid_column": null,
            "grid_gap": null,
            "grid_row": null,
            "grid_template_areas": null,
            "grid_template_columns": null,
            "grid_template_rows": null,
            "height": null,
            "justify_content": null,
            "justify_items": null,
            "left": null,
            "margin": null,
            "max_height": null,
            "max_width": null,
            "min_height": null,
            "min_width": null,
            "object_fit": null,
            "object_position": null,
            "order": null,
            "overflow": null,
            "overflow_x": null,
            "overflow_y": null,
            "padding": null,
            "right": null,
            "top": null,
            "visibility": null,
            "width": null
          }
        },
        "de223b180ff745a7bdcd5ad9d908f5bd": {
          "model_module": "@jupyter-widgets/controls",
          "model_name": "ProgressStyleModel",
          "model_module_version": "1.5.0",
          "state": {
            "_model_module": "@jupyter-widgets/controls",
            "_model_module_version": "1.5.0",
            "_model_name": "ProgressStyleModel",
            "_view_count": null,
            "_view_module": "@jupyter-widgets/base",
            "_view_module_version": "1.2.0",
            "_view_name": "StyleView",
            "bar_color": null,
            "description_width": ""
          }
        },
        "1d4a038ea0324ce08ece59f34ecca51a": {
          "model_module": "@jupyter-widgets/base",
          "model_name": "LayoutModel",
          "model_module_version": "1.2.0",
          "state": {
            "_model_module": "@jupyter-widgets/base",
            "_model_module_version": "1.2.0",
            "_model_name": "LayoutModel",
            "_view_count": null,
            "_view_module": "@jupyter-widgets/base",
            "_view_module_version": "1.2.0",
            "_view_name": "LayoutView",
            "align_content": null,
            "align_items": null,
            "align_self": null,
            "border": null,
            "bottom": null,
            "display": null,
            "flex": null,
            "flex_flow": null,
            "grid_area": null,
            "grid_auto_columns": null,
            "grid_auto_flow": null,
            "grid_auto_rows": null,
            "grid_column": null,
            "grid_gap": null,
            "grid_row": null,
            "grid_template_areas": null,
            "grid_template_columns": null,
            "grid_template_rows": null,
            "height": null,
            "justify_content": null,
            "justify_items": null,
            "left": null,
            "margin": null,
            "max_height": null,
            "max_width": null,
            "min_height": null,
            "min_width": null,
            "object_fit": null,
            "object_position": null,
            "order": null,
            "overflow": null,
            "overflow_x": null,
            "overflow_y": null,
            "padding": null,
            "right": null,
            "top": null,
            "visibility": null,
            "width": null
          }
        },
        "0772938615954660805584ac6ee4d927": {
          "model_module": "@jupyter-widgets/controls",
          "model_name": "DescriptionStyleModel",
          "model_module_version": "1.5.0",
          "state": {
            "_model_module": "@jupyter-widgets/controls",
            "_model_module_version": "1.5.0",
            "_model_name": "DescriptionStyleModel",
            "_view_count": null,
            "_view_module": "@jupyter-widgets/base",
            "_view_module_version": "1.2.0",
            "_view_name": "StyleView",
            "description_width": ""
          }
        },
        "c8261011ccdd4f729ae4d64af092649f": {
          "model_module": "@jupyter-widgets/controls",
          "model_name": "HBoxModel",
          "model_module_version": "1.5.0",
          "state": {
            "_dom_classes": [],
            "_model_module": "@jupyter-widgets/controls",
            "_model_module_version": "1.5.0",
            "_model_name": "HBoxModel",
            "_view_count": null,
            "_view_module": "@jupyter-widgets/controls",
            "_view_module_version": "1.5.0",
            "_view_name": "HBoxView",
            "box_style": "",
            "children": [
              "IPY_MODEL_3aac3cfaae6d44c284a7521553682097",
              "IPY_MODEL_e5a407913477403e8eef4b3964487ce8",
              "IPY_MODEL_3698441539644047a40d9f11fda4b958"
            ],
            "layout": "IPY_MODEL_336fc3ed3f684c9ca07337feca6920af"
          }
        },
        "3aac3cfaae6d44c284a7521553682097": {
          "model_module": "@jupyter-widgets/controls",
          "model_name": "HTMLModel",
          "model_module_version": "1.5.0",
          "state": {
            "_dom_classes": [],
            "_model_module": "@jupyter-widgets/controls",
            "_model_module_version": "1.5.0",
            "_model_name": "HTMLModel",
            "_view_count": null,
            "_view_module": "@jupyter-widgets/controls",
            "_view_module_version": "1.5.0",
            "_view_name": "HTMLView",
            "description": "",
            "description_tooltip": null,
            "layout": "IPY_MODEL_f22c9d1ace0843c1ab9d3b979fa9a360",
            "placeholder": "​",
            "style": "IPY_MODEL_9aa1481601944829bf9081f0da802903",
            "value": "Downloading: 100%"
          }
        },
        "e5a407913477403e8eef4b3964487ce8": {
          "model_module": "@jupyter-widgets/controls",
          "model_name": "FloatProgressModel",
          "model_module_version": "1.5.0",
          "state": {
            "_dom_classes": [],
            "_model_module": "@jupyter-widgets/controls",
            "_model_module_version": "1.5.0",
            "_model_name": "FloatProgressModel",
            "_view_count": null,
            "_view_module": "@jupyter-widgets/controls",
            "_view_module_version": "1.5.0",
            "_view_name": "ProgressView",
            "bar_style": "success",
            "description": "",
            "description_tooltip": null,
            "layout": "IPY_MODEL_714d2e73bb0a4164ad8595ba7dfe28fb",
            "max": 505,
            "min": 0,
            "orientation": "horizontal",
            "style": "IPY_MODEL_5c5c093ed1ef44c5b9ef04f667ac4faf",
            "value": 505
          }
        },
        "3698441539644047a40d9f11fda4b958": {
          "model_module": "@jupyter-widgets/controls",
          "model_name": "HTMLModel",
          "model_module_version": "1.5.0",
          "state": {
            "_dom_classes": [],
            "_model_module": "@jupyter-widgets/controls",
            "_model_module_version": "1.5.0",
            "_model_name": "HTMLModel",
            "_view_count": null,
            "_view_module": "@jupyter-widgets/controls",
            "_view_module_version": "1.5.0",
            "_view_name": "HTMLView",
            "description": "",
            "description_tooltip": null,
            "layout": "IPY_MODEL_ecc3586f2caa47b8a22483a47a18a68a",
            "placeholder": "​",
            "style": "IPY_MODEL_8e8ffc72419745a0a8dff82a32d0ca4e",
            "value": " 505/505 [00:00&lt;00:00, 30.8kB/s]"
          }
        },
        "336fc3ed3f684c9ca07337feca6920af": {
          "model_module": "@jupyter-widgets/base",
          "model_name": "LayoutModel",
          "model_module_version": "1.2.0",
          "state": {
            "_model_module": "@jupyter-widgets/base",
            "_model_module_version": "1.2.0",
            "_model_name": "LayoutModel",
            "_view_count": null,
            "_view_module": "@jupyter-widgets/base",
            "_view_module_version": "1.2.0",
            "_view_name": "LayoutView",
            "align_content": null,
            "align_items": null,
            "align_self": null,
            "border": null,
            "bottom": null,
            "display": null,
            "flex": null,
            "flex_flow": null,
            "grid_area": null,
            "grid_auto_columns": null,
            "grid_auto_flow": null,
            "grid_auto_rows": null,
            "grid_column": null,
            "grid_gap": null,
            "grid_row": null,
            "grid_template_areas": null,
            "grid_template_columns": null,
            "grid_template_rows": null,
            "height": null,
            "justify_content": null,
            "justify_items": null,
            "left": null,
            "margin": null,
            "max_height": null,
            "max_width": null,
            "min_height": null,
            "min_width": null,
            "object_fit": null,
            "object_position": null,
            "order": null,
            "overflow": null,
            "overflow_x": null,
            "overflow_y": null,
            "padding": null,
            "right": null,
            "top": null,
            "visibility": null,
            "width": null
          }
        },
        "f22c9d1ace0843c1ab9d3b979fa9a360": {
          "model_module": "@jupyter-widgets/base",
          "model_name": "LayoutModel",
          "model_module_version": "1.2.0",
          "state": {
            "_model_module": "@jupyter-widgets/base",
            "_model_module_version": "1.2.0",
            "_model_name": "LayoutModel",
            "_view_count": null,
            "_view_module": "@jupyter-widgets/base",
            "_view_module_version": "1.2.0",
            "_view_name": "LayoutView",
            "align_content": null,
            "align_items": null,
            "align_self": null,
            "border": null,
            "bottom": null,
            "display": null,
            "flex": null,
            "flex_flow": null,
            "grid_area": null,
            "grid_auto_columns": null,
            "grid_auto_flow": null,
            "grid_auto_rows": null,
            "grid_column": null,
            "grid_gap": null,
            "grid_row": null,
            "grid_template_areas": null,
            "grid_template_columns": null,
            "grid_template_rows": null,
            "height": null,
            "justify_content": null,
            "justify_items": null,
            "left": null,
            "margin": null,
            "max_height": null,
            "max_width": null,
            "min_height": null,
            "min_width": null,
            "object_fit": null,
            "object_position": null,
            "order": null,
            "overflow": null,
            "overflow_x": null,
            "overflow_y": null,
            "padding": null,
            "right": null,
            "top": null,
            "visibility": null,
            "width": null
          }
        },
        "9aa1481601944829bf9081f0da802903": {
          "model_module": "@jupyter-widgets/controls",
          "model_name": "DescriptionStyleModel",
          "model_module_version": "1.5.0",
          "state": {
            "_model_module": "@jupyter-widgets/controls",
            "_model_module_version": "1.5.0",
            "_model_name": "DescriptionStyleModel",
            "_view_count": null,
            "_view_module": "@jupyter-widgets/base",
            "_view_module_version": "1.2.0",
            "_view_name": "StyleView",
            "description_width": ""
          }
        },
        "714d2e73bb0a4164ad8595ba7dfe28fb": {
          "model_module": "@jupyter-widgets/base",
          "model_name": "LayoutModel",
          "model_module_version": "1.2.0",
          "state": {
            "_model_module": "@jupyter-widgets/base",
            "_model_module_version": "1.2.0",
            "_model_name": "LayoutModel",
            "_view_count": null,
            "_view_module": "@jupyter-widgets/base",
            "_view_module_version": "1.2.0",
            "_view_name": "LayoutView",
            "align_content": null,
            "align_items": null,
            "align_self": null,
            "border": null,
            "bottom": null,
            "display": null,
            "flex": null,
            "flex_flow": null,
            "grid_area": null,
            "grid_auto_columns": null,
            "grid_auto_flow": null,
            "grid_auto_rows": null,
            "grid_column": null,
            "grid_gap": null,
            "grid_row": null,
            "grid_template_areas": null,
            "grid_template_columns": null,
            "grid_template_rows": null,
            "height": null,
            "justify_content": null,
            "justify_items": null,
            "left": null,
            "margin": null,
            "max_height": null,
            "max_width": null,
            "min_height": null,
            "min_width": null,
            "object_fit": null,
            "object_position": null,
            "order": null,
            "overflow": null,
            "overflow_x": null,
            "overflow_y": null,
            "padding": null,
            "right": null,
            "top": null,
            "visibility": null,
            "width": null
          }
        },
        "5c5c093ed1ef44c5b9ef04f667ac4faf": {
          "model_module": "@jupyter-widgets/controls",
          "model_name": "ProgressStyleModel",
          "model_module_version": "1.5.0",
          "state": {
            "_model_module": "@jupyter-widgets/controls",
            "_model_module_version": "1.5.0",
            "_model_name": "ProgressStyleModel",
            "_view_count": null,
            "_view_module": "@jupyter-widgets/base",
            "_view_module_version": "1.2.0",
            "_view_name": "StyleView",
            "bar_color": null,
            "description_width": ""
          }
        },
        "ecc3586f2caa47b8a22483a47a18a68a": {
          "model_module": "@jupyter-widgets/base",
          "model_name": "LayoutModel",
          "model_module_version": "1.2.0",
          "state": {
            "_model_module": "@jupyter-widgets/base",
            "_model_module_version": "1.2.0",
            "_model_name": "LayoutModel",
            "_view_count": null,
            "_view_module": "@jupyter-widgets/base",
            "_view_module_version": "1.2.0",
            "_view_name": "LayoutView",
            "align_content": null,
            "align_items": null,
            "align_self": null,
            "border": null,
            "bottom": null,
            "display": null,
            "flex": null,
            "flex_flow": null,
            "grid_area": null,
            "grid_auto_columns": null,
            "grid_auto_flow": null,
            "grid_auto_rows": null,
            "grid_column": null,
            "grid_gap": null,
            "grid_row": null,
            "grid_template_areas": null,
            "grid_template_columns": null,
            "grid_template_rows": null,
            "height": null,
            "justify_content": null,
            "justify_items": null,
            "left": null,
            "margin": null,
            "max_height": null,
            "max_width": null,
            "min_height": null,
            "min_width": null,
            "object_fit": null,
            "object_position": null,
            "order": null,
            "overflow": null,
            "overflow_x": null,
            "overflow_y": null,
            "padding": null,
            "right": null,
            "top": null,
            "visibility": null,
            "width": null
          }
        },
        "8e8ffc72419745a0a8dff82a32d0ca4e": {
          "model_module": "@jupyter-widgets/controls",
          "model_name": "DescriptionStyleModel",
          "model_module_version": "1.5.0",
          "state": {
            "_model_module": "@jupyter-widgets/controls",
            "_model_module_version": "1.5.0",
            "_model_name": "DescriptionStyleModel",
            "_view_count": null,
            "_view_module": "@jupyter-widgets/base",
            "_view_module_version": "1.2.0",
            "_view_name": "StyleView",
            "description_width": ""
          }
        },
        "c99b47e9ab6e443c97dc096336c7ddca": {
          "model_module": "@jupyter-widgets/controls",
          "model_name": "HBoxModel",
          "model_module_version": "1.5.0",
          "state": {
            "_dom_classes": [],
            "_model_module": "@jupyter-widgets/controls",
            "_model_module_version": "1.5.0",
            "_model_name": "HBoxModel",
            "_view_count": null,
            "_view_module": "@jupyter-widgets/controls",
            "_view_module_version": "1.5.0",
            "_view_name": "HBoxView",
            "box_style": "",
            "children": [
              "IPY_MODEL_a349715552844568b2d066cfd65ebaa5",
              "IPY_MODEL_f4f7b47a29e4464089c3943d5fdd02f5",
              "IPY_MODEL_56fcdb9d27434b32bfd5d70e9ad4a4b7"
            ],
            "layout": "IPY_MODEL_6b8398a656464ec6a79c08a97068a74e"
          }
        },
        "a349715552844568b2d066cfd65ebaa5": {
          "model_module": "@jupyter-widgets/controls",
          "model_name": "HTMLModel",
          "model_module_version": "1.5.0",
          "state": {
            "_dom_classes": [],
            "_model_module": "@jupyter-widgets/controls",
            "_model_module_version": "1.5.0",
            "_model_name": "HTMLModel",
            "_view_count": null,
            "_view_module": "@jupyter-widgets/controls",
            "_view_module_version": "1.5.0",
            "_view_name": "HTMLView",
            "description": "",
            "description_tooltip": null,
            "layout": "IPY_MODEL_24012b63f53e4c649f303aaf9d3cafab",
            "placeholder": "​",
            "style": "IPY_MODEL_d7b09960b2154ce19c38ee97b3640ebe",
            "value": "Downloading: 100%"
          }
        },
        "f4f7b47a29e4464089c3943d5fdd02f5": {
          "model_module": "@jupyter-widgets/controls",
          "model_name": "FloatProgressModel",
          "model_module_version": "1.5.0",
          "state": {
            "_dom_classes": [],
            "_model_module": "@jupyter-widgets/controls",
            "_model_module_version": "1.5.0",
            "_model_name": "FloatProgressModel",
            "_view_count": null,
            "_view_module": "@jupyter-widgets/controls",
            "_view_module_version": "1.5.0",
            "_view_name": "ProgressView",
            "bar_style": "success",
            "description": "",
            "description_tooltip": null,
            "layout": "IPY_MODEL_5399153f4528486c9be1d31ca875a944",
            "max": 438146887,
            "min": 0,
            "orientation": "horizontal",
            "style": "IPY_MODEL_a3f709fba3e5408c994c00593ece209c",
            "value": 438146887
          }
        },
        "56fcdb9d27434b32bfd5d70e9ad4a4b7": {
          "model_module": "@jupyter-widgets/controls",
          "model_name": "HTMLModel",
          "model_module_version": "1.5.0",
          "state": {
            "_dom_classes": [],
            "_model_module": "@jupyter-widgets/controls",
            "_model_module_version": "1.5.0",
            "_model_name": "HTMLModel",
            "_view_count": null,
            "_view_module": "@jupyter-widgets/controls",
            "_view_module_version": "1.5.0",
            "_view_name": "HTMLView",
            "description": "",
            "description_tooltip": null,
            "layout": "IPY_MODEL_b2af0bedb78a418aa7161b97930380b6",
            "placeholder": "​",
            "style": "IPY_MODEL_c9fff51e37ee4bb1a4eebf73829cddaf",
            "value": " 438M/438M [00:08&lt;00:00, 42.5MB/s]"
          }
        },
        "6b8398a656464ec6a79c08a97068a74e": {
          "model_module": "@jupyter-widgets/base",
          "model_name": "LayoutModel",
          "model_module_version": "1.2.0",
          "state": {
            "_model_module": "@jupyter-widgets/base",
            "_model_module_version": "1.2.0",
            "_model_name": "LayoutModel",
            "_view_count": null,
            "_view_module": "@jupyter-widgets/base",
            "_view_module_version": "1.2.0",
            "_view_name": "LayoutView",
            "align_content": null,
            "align_items": null,
            "align_self": null,
            "border": null,
            "bottom": null,
            "display": null,
            "flex": null,
            "flex_flow": null,
            "grid_area": null,
            "grid_auto_columns": null,
            "grid_auto_flow": null,
            "grid_auto_rows": null,
            "grid_column": null,
            "grid_gap": null,
            "grid_row": null,
            "grid_template_areas": null,
            "grid_template_columns": null,
            "grid_template_rows": null,
            "height": null,
            "justify_content": null,
            "justify_items": null,
            "left": null,
            "margin": null,
            "max_height": null,
            "max_width": null,
            "min_height": null,
            "min_width": null,
            "object_fit": null,
            "object_position": null,
            "order": null,
            "overflow": null,
            "overflow_x": null,
            "overflow_y": null,
            "padding": null,
            "right": null,
            "top": null,
            "visibility": null,
            "width": null
          }
        },
        "24012b63f53e4c649f303aaf9d3cafab": {
          "model_module": "@jupyter-widgets/base",
          "model_name": "LayoutModel",
          "model_module_version": "1.2.0",
          "state": {
            "_model_module": "@jupyter-widgets/base",
            "_model_module_version": "1.2.0",
            "_model_name": "LayoutModel",
            "_view_count": null,
            "_view_module": "@jupyter-widgets/base",
            "_view_module_version": "1.2.0",
            "_view_name": "LayoutView",
            "align_content": null,
            "align_items": null,
            "align_self": null,
            "border": null,
            "bottom": null,
            "display": null,
            "flex": null,
            "flex_flow": null,
            "grid_area": null,
            "grid_auto_columns": null,
            "grid_auto_flow": null,
            "grid_auto_rows": null,
            "grid_column": null,
            "grid_gap": null,
            "grid_row": null,
            "grid_template_areas": null,
            "grid_template_columns": null,
            "grid_template_rows": null,
            "height": null,
            "justify_content": null,
            "justify_items": null,
            "left": null,
            "margin": null,
            "max_height": null,
            "max_width": null,
            "min_height": null,
            "min_width": null,
            "object_fit": null,
            "object_position": null,
            "order": null,
            "overflow": null,
            "overflow_x": null,
            "overflow_y": null,
            "padding": null,
            "right": null,
            "top": null,
            "visibility": null,
            "width": null
          }
        },
        "d7b09960b2154ce19c38ee97b3640ebe": {
          "model_module": "@jupyter-widgets/controls",
          "model_name": "DescriptionStyleModel",
          "model_module_version": "1.5.0",
          "state": {
            "_model_module": "@jupyter-widgets/controls",
            "_model_module_version": "1.5.0",
            "_model_name": "DescriptionStyleModel",
            "_view_count": null,
            "_view_module": "@jupyter-widgets/base",
            "_view_module_version": "1.2.0",
            "_view_name": "StyleView",
            "description_width": ""
          }
        },
        "5399153f4528486c9be1d31ca875a944": {
          "model_module": "@jupyter-widgets/base",
          "model_name": "LayoutModel",
          "model_module_version": "1.2.0",
          "state": {
            "_model_module": "@jupyter-widgets/base",
            "_model_module_version": "1.2.0",
            "_model_name": "LayoutModel",
            "_view_count": null,
            "_view_module": "@jupyter-widgets/base",
            "_view_module_version": "1.2.0",
            "_view_name": "LayoutView",
            "align_content": null,
            "align_items": null,
            "align_self": null,
            "border": null,
            "bottom": null,
            "display": null,
            "flex": null,
            "flex_flow": null,
            "grid_area": null,
            "grid_auto_columns": null,
            "grid_auto_flow": null,
            "grid_auto_rows": null,
            "grid_column": null,
            "grid_gap": null,
            "grid_row": null,
            "grid_template_areas": null,
            "grid_template_columns": null,
            "grid_template_rows": null,
            "height": null,
            "justify_content": null,
            "justify_items": null,
            "left": null,
            "margin": null,
            "max_height": null,
            "max_width": null,
            "min_height": null,
            "min_width": null,
            "object_fit": null,
            "object_position": null,
            "order": null,
            "overflow": null,
            "overflow_x": null,
            "overflow_y": null,
            "padding": null,
            "right": null,
            "top": null,
            "visibility": null,
            "width": null
          }
        },
        "a3f709fba3e5408c994c00593ece209c": {
          "model_module": "@jupyter-widgets/controls",
          "model_name": "ProgressStyleModel",
          "model_module_version": "1.5.0",
          "state": {
            "_model_module": "@jupyter-widgets/controls",
            "_model_module_version": "1.5.0",
            "_model_name": "ProgressStyleModel",
            "_view_count": null,
            "_view_module": "@jupyter-widgets/base",
            "_view_module_version": "1.2.0",
            "_view_name": "StyleView",
            "bar_color": null,
            "description_width": ""
          }
        },
        "b2af0bedb78a418aa7161b97930380b6": {
          "model_module": "@jupyter-widgets/base",
          "model_name": "LayoutModel",
          "model_module_version": "1.2.0",
          "state": {
            "_model_module": "@jupyter-widgets/base",
            "_model_module_version": "1.2.0",
            "_model_name": "LayoutModel",
            "_view_count": null,
            "_view_module": "@jupyter-widgets/base",
            "_view_module_version": "1.2.0",
            "_view_name": "LayoutView",
            "align_content": null,
            "align_items": null,
            "align_self": null,
            "border": null,
            "bottom": null,
            "display": null,
            "flex": null,
            "flex_flow": null,
            "grid_area": null,
            "grid_auto_columns": null,
            "grid_auto_flow": null,
            "grid_auto_rows": null,
            "grid_column": null,
            "grid_gap": null,
            "grid_row": null,
            "grid_template_areas": null,
            "grid_template_columns": null,
            "grid_template_rows": null,
            "height": null,
            "justify_content": null,
            "justify_items": null,
            "left": null,
            "margin": null,
            "max_height": null,
            "max_width": null,
            "min_height": null,
            "min_width": null,
            "object_fit": null,
            "object_position": null,
            "order": null,
            "overflow": null,
            "overflow_x": null,
            "overflow_y": null,
            "padding": null,
            "right": null,
            "top": null,
            "visibility": null,
            "width": null
          }
        },
        "c9fff51e37ee4bb1a4eebf73829cddaf": {
          "model_module": "@jupyter-widgets/controls",
          "model_name": "DescriptionStyleModel",
          "model_module_version": "1.5.0",
          "state": {
            "_model_module": "@jupyter-widgets/controls",
            "_model_module_version": "1.5.0",
            "_model_name": "DescriptionStyleModel",
            "_view_count": null,
            "_view_module": "@jupyter-widgets/base",
            "_view_module_version": "1.2.0",
            "_view_name": "StyleView",
            "description_width": ""
          }
        }
      }
    }
  },
  "cells": [
    {
      "cell_type": "markdown",
      "metadata": {
        "id": "view-in-github",
        "colab_type": "text"
      },
      "source": [
        "<a href=\"https://colab.research.google.com/github/naghamghanim/data/blob/main/TrainingAndEvalFinalVersion.ipynb\" target=\"_parent\"><img src=\"https://colab.research.google.com/assets/colab-badge.svg\" alt=\"Open In Colab\"/></a>"
      ]
    },
    {
      "cell_type": "code",
      "source": [
        "# Verify that you have the GPU recognized \n",
        "!nvidia-smi"
      ],
      "metadata": {
        "id": "nQEoDjlMtCRG",
        "outputId": "c6088b05-7164-4714-a879-6037db2b72b9",
        "colab": {
          "base_uri": "https://localhost:8080/"
        }
      },
      "execution_count": 1,
      "outputs": [
        {
          "output_type": "stream",
          "name": "stdout",
          "text": [
            "Mon Dec 19 14:37:31 2022       \n",
            "+-----------------------------------------------------------------------------+\n",
            "| NVIDIA-SMI 460.32.03    Driver Version: 460.32.03    CUDA Version: 11.2     |\n",
            "|-------------------------------+----------------------+----------------------+\n",
            "| GPU  Name        Persistence-M| Bus-Id        Disp.A | Volatile Uncorr. ECC |\n",
            "| Fan  Temp  Perf  Pwr:Usage/Cap|         Memory-Usage | GPU-Util  Compute M. |\n",
            "|                               |                      |               MIG M. |\n",
            "|===============================+======================+======================|\n",
            "|   0  Tesla T4            Off  | 00000000:00:04.0 Off |                    0 |\n",
            "| N/A   66C    P0    29W /  70W |      0MiB / 15109MiB |      0%      Default |\n",
            "|                               |                      |                  N/A |\n",
            "+-------------------------------+----------------------+----------------------+\n",
            "                                                                               \n",
            "+-----------------------------------------------------------------------------+\n",
            "| Processes:                                                                  |\n",
            "|  GPU   GI   CI        PID   Type   Process name                  GPU Memory |\n",
            "|        ID   ID                                                   Usage      |\n",
            "|=============================================================================|\n",
            "|  No running processes found                                                 |\n",
            "+-----------------------------------------------------------------------------+\n"
          ]
        }
      ]
    },
    {
      "cell_type": "markdown",
      "source": [
        "# Git clone COMP9312 repo"
      ],
      "metadata": {
        "id": "Lt3wfx8tbzRk"
      }
    },
    {
      "cell_type": "code",
      "source": [
        "!rm -rf /content/COMP9312\n",
        "!git clone https://github.com/naghamghanim/data.git"
      ],
      "metadata": {
        "id": "CSqBYb05SgZI",
        "outputId": "03c0833f-4dd0-4b63-cf0b-99a135411e80",
        "colab": {
          "base_uri": "https://localhost:8080/"
        }
      },
      "execution_count": 2,
      "outputs": [
        {
          "output_type": "stream",
          "name": "stdout",
          "text": [
            "Cloning into 'data'...\n",
            "remote: Enumerating objects: 1763, done.\u001b[K\n",
            "remote: Counting objects: 100% (298/298), done.\u001b[K\n",
            "remote: Compressing objects: 100% (120/120), done.\u001b[K\n",
            "remote: Total 1763 (delta 173), reused 296 (delta 171), pack-reused 1465\u001b[K\n",
            "Receiving objects: 100% (1763/1763), 58.57 MiB | 24.79 MiB/s, done.\n",
            "Resolving deltas: 100% (1054/1054), done.\n"
          ]
        }
      ]
    },
    {
      "cell_type": "markdown",
      "source": [
        "# Install dependencies"
      ],
      "metadata": {
        "id": "s3eKx0pTcCA7"
      }
    },
    {
      "cell_type": "code",
      "source": [
        "!pip install transformers\n",
        "!pip install pickle-mixin"
      ],
      "metadata": {
        "id": "8Gw8kbhjXHGL",
        "outputId": "4f5e9850-804b-4dde-dfd9-5dcb21ad0804",
        "colab": {
          "base_uri": "https://localhost:8080/"
        }
      },
      "execution_count": 3,
      "outputs": [
        {
          "output_type": "stream",
          "name": "stdout",
          "text": [
            "Looking in indexes: https://pypi.org/simple, https://us-python.pkg.dev/colab-wheels/public/simple/\n",
            "Collecting transformers\n",
            "  Downloading transformers-4.25.1-py3-none-any.whl (5.8 MB)\n",
            "\u001b[K     |████████████████████████████████| 5.8 MB 7.1 MB/s \n",
            "\u001b[?25hRequirement already satisfied: regex!=2019.12.17 in /usr/local/lib/python3.8/dist-packages (from transformers) (2022.6.2)\n",
            "Requirement already satisfied: packaging>=20.0 in /usr/local/lib/python3.8/dist-packages (from transformers) (21.3)\n",
            "Requirement already satisfied: pyyaml>=5.1 in /usr/local/lib/python3.8/dist-packages (from transformers) (6.0)\n",
            "Requirement already satisfied: tqdm>=4.27 in /usr/local/lib/python3.8/dist-packages (from transformers) (4.64.1)\n",
            "Requirement already satisfied: filelock in /usr/local/lib/python3.8/dist-packages (from transformers) (3.8.2)\n",
            "Collecting tokenizers!=0.11.3,<0.14,>=0.11.1\n",
            "  Downloading tokenizers-0.13.2-cp38-cp38-manylinux_2_17_x86_64.manylinux2014_x86_64.whl (7.6 MB)\n",
            "\u001b[K     |████████████████████████████████| 7.6 MB 62.4 MB/s \n",
            "\u001b[?25hRequirement already satisfied: requests in /usr/local/lib/python3.8/dist-packages (from transformers) (2.23.0)\n",
            "Collecting huggingface-hub<1.0,>=0.10.0\n",
            "  Downloading huggingface_hub-0.11.1-py3-none-any.whl (182 kB)\n",
            "\u001b[K     |████████████████████████████████| 182 kB 79.2 MB/s \n",
            "\u001b[?25hRequirement already satisfied: numpy>=1.17 in /usr/local/lib/python3.8/dist-packages (from transformers) (1.21.6)\n",
            "Requirement already satisfied: typing-extensions>=3.7.4.3 in /usr/local/lib/python3.8/dist-packages (from huggingface-hub<1.0,>=0.10.0->transformers) (4.4.0)\n",
            "Requirement already satisfied: pyparsing!=3.0.5,>=2.0.2 in /usr/local/lib/python3.8/dist-packages (from packaging>=20.0->transformers) (3.0.9)\n",
            "Requirement already satisfied: urllib3!=1.25.0,!=1.25.1,<1.26,>=1.21.1 in /usr/local/lib/python3.8/dist-packages (from requests->transformers) (1.24.3)\n",
            "Requirement already satisfied: certifi>=2017.4.17 in /usr/local/lib/python3.8/dist-packages (from requests->transformers) (2022.12.7)\n",
            "Requirement already satisfied: chardet<4,>=3.0.2 in /usr/local/lib/python3.8/dist-packages (from requests->transformers) (3.0.4)\n",
            "Requirement already satisfied: idna<3,>=2.5 in /usr/local/lib/python3.8/dist-packages (from requests->transformers) (2.10)\n",
            "Installing collected packages: tokenizers, huggingface-hub, transformers\n",
            "Successfully installed huggingface-hub-0.11.1 tokenizers-0.13.2 transformers-4.25.1\n",
            "Looking in indexes: https://pypi.org/simple, https://us-python.pkg.dev/colab-wheels/public/simple/\n",
            "Collecting pickle-mixin\n",
            "  Downloading pickle-mixin-1.0.2.tar.gz (5.1 kB)\n",
            "Building wheels for collected packages: pickle-mixin\n",
            "  Building wheel for pickle-mixin (setup.py) ... \u001b[?25l\u001b[?25hdone\n",
            "  Created wheel for pickle-mixin: filename=pickle_mixin-1.0.2-py3-none-any.whl size=6006 sha256=fae94556412f0599c6afe85549895a9f13c103a456c15df4e6d819a707bcf48b\n",
            "  Stored in directory: /root/.cache/pip/wheels/2a/a4/6c/83bfbc3b94f1bb43d634b07a6a893fd437a45c58b29aea5142\n",
            "Successfully built pickle-mixin\n",
            "Installing collected packages: pickle-mixin\n",
            "Successfully installed pickle-mixin-1.0.2\n"
          ]
        }
      ]
    },
    {
      "cell_type": "markdown",
      "source": [
        "# Model training"
      ],
      "metadata": {
        "id": "02rBEWrjcMLt"
      }
    },
    {
      "cell_type": "code",
      "source": [
        "# Make output directory\n",
        "!mkdir /content/output/"
      ],
      "metadata": {
        "id": "6QHS5JcQsoHN"
      },
      "execution_count": 4,
      "outputs": []
    },
    {
      "cell_type": "code",
      "source": [
        "import sys\n",
        "import argparse\n",
        "import pickle\n",
        "sys.path.append('/content/data/')"
      ],
      "metadata": {
        "id": "5lzJLbXzSmvu"
      },
      "execution_count": 5,
      "outputs": []
    },
    {
      "cell_type": "code",
      "source": [
        "from comp9312.classify.train import main"
      ],
      "metadata": {
        "id": "yqGx1LLfV4c5"
      },
      "execution_count": 6,
      "outputs": []
    },
    {
      "cell_type": "code",
      "source": [
        "args_dict = {\n",
        "    \"output_path\": \"/content/output/\",\n",
        "    \"train_path\": \"/content/data/models2/M4/train.csv\",\n",
        "    \"test_path\": \"/content/data/models2/M4/test.csv\",\n",
        "    \"val_path\": \"/content/data/models2/M4/val.csv\",\n",
        "    \"seed\": 1,\n",
        "    \"max_epochs\": 10,\n",
        "    \"batch_size\": 8,\n",
        "    \"bert_model\": \"avichr/heBERT\",\n",
        "    \"num_workers\": 1,\n",
        "    \"gpus\": [0],\n",
        "    \"learning_rate\": 0.00001\n",
        "}\n",
        "args = argparse.Namespace()\n",
        "args.__dict__ = args_dict"
      ],
      "metadata": {
        "id": "AwmPOruvWSS2"
      },
      "execution_count": 7,
      "outputs": []
    },
    {
      "cell_type": "code",
      "source": [
        "main(args)"
      ],
      "metadata": {
        "id": "JJV8V5GuYKRS",
        "outputId": "9a76b30b-0af6-42d1-ef95-66a88bdead83",
        "colab": {
          "base_uri": "https://localhost:8080/",
          "height": 1000,
          "referenced_widgets": [
            "0a037d342aa54fafb014d63ed7f654c9",
            "024ed52b38724a2b8be760a58a71f8c5",
            "2b05d4ab047649ae9101a9a58afb623b",
            "9085e8cd4cdb41828d13e72c585579d2",
            "f9fbed5f926246dfa750c3e28b966818",
            "09289d28350f4e919a71fb187429ffe4",
            "21cce4fe329643d387da055477850120",
            "a69722fc77d24770b3e1cebc5ea2b37d",
            "de223b180ff745a7bdcd5ad9d908f5bd",
            "1d4a038ea0324ce08ece59f34ecca51a",
            "0772938615954660805584ac6ee4d927",
            "c8261011ccdd4f729ae4d64af092649f",
            "3aac3cfaae6d44c284a7521553682097",
            "e5a407913477403e8eef4b3964487ce8",
            "3698441539644047a40d9f11fda4b958",
            "336fc3ed3f684c9ca07337feca6920af",
            "f22c9d1ace0843c1ab9d3b979fa9a360",
            "9aa1481601944829bf9081f0da802903",
            "714d2e73bb0a4164ad8595ba7dfe28fb",
            "5c5c093ed1ef44c5b9ef04f667ac4faf",
            "ecc3586f2caa47b8a22483a47a18a68a",
            "8e8ffc72419745a0a8dff82a32d0ca4e",
            "c99b47e9ab6e443c97dc096336c7ddca",
            "a349715552844568b2d066cfd65ebaa5",
            "f4f7b47a29e4464089c3943d5fdd02f5",
            "56fcdb9d27434b32bfd5d70e9ad4a4b7",
            "6b8398a656464ec6a79c08a97068a74e",
            "24012b63f53e4c649f303aaf9d3cafab",
            "d7b09960b2154ce19c38ee97b3640ebe",
            "5399153f4528486c9be1d31ca875a944",
            "a3f709fba3e5408c994c00593ece209c",
            "b2af0bedb78a418aa7161b97930380b6",
            "c9fff51e37ee4bb1a4eebf73829cddaf"
          ]
        }
      },
      "execution_count": 8,
      "outputs": [
        {
          "output_type": "display_data",
          "data": {
            "text/plain": [
              "Downloading:   0%|          | 0.00/299k [00:00<?, ?B/s]"
            ],
            "application/vnd.jupyter.widget-view+json": {
              "version_major": 2,
              "version_minor": 0,
              "model_id": "0a037d342aa54fafb014d63ed7f654c9"
            }
          },
          "metadata": {}
        },
        {
          "output_type": "display_data",
          "data": {
            "text/plain": [
              "Downloading:   0%|          | 0.00/505 [00:00<?, ?B/s]"
            ],
            "application/vnd.jupyter.widget-view+json": {
              "version_major": 2,
              "version_minor": 0,
              "model_id": "c8261011ccdd4f729ae4d64af092649f"
            }
          },
          "metadata": {}
        },
        {
          "output_type": "display_data",
          "data": {
            "text/plain": [
              "Downloading:   0%|          | 0.00/438M [00:00<?, ?B/s]"
            ],
            "application/vnd.jupyter.widget-view+json": {
              "version_major": 2,
              "version_minor": 0,
              "model_id": "c99b47e9ab6e443c97dc096336c7ddca"
            }
          },
          "metadata": {}
        },
        {
          "output_type": "stream",
          "name": "stderr",
          "text": [
            "Some weights of the model checkpoint at avichr/heBERT were not used when initializing BertModel: ['cls.predictions.decoder.bias', 'cls.predictions.decoder.weight', 'cls.predictions.transform.dense.bias', 'cls.predictions.transform.dense.weight', 'cls.predictions.bias', 'cls.predictions.transform.LayerNorm.weight', 'cls.predictions.transform.LayerNorm.bias']\n",
            "- This IS expected if you are initializing BertModel from the checkpoint of a model trained on another task or with another architecture (e.g. initializing a BertForSequenceClassification model from a BertForPreTraining model).\n",
            "- This IS NOT expected if you are initializing BertModel from the checkpoint of a model that you expect to be exactly identical (initializing a BertForSequenceClassification model from a BertForSequenceClassification model).\n",
            "Some weights of BertModel were not initialized from the model checkpoint at avichr/heBERT and are newly initialized: ['bert.pooler.dense.bias', 'bert.pooler.dense.weight']\n",
            "You should probably TRAIN this model on a down-stream task to be able to use it for predictions and inference.\n",
            "INFO:comp9312.classify.trainer:Epoch 0 | Batch 10/178 | Timestep 10 | Loss 0.706001\n"
          ]
        },
        {
          "output_type": "stream",
          "name": "stdout",
          "text": [
            "[Mon, 19 Dec 2022 14:39:53] INFO [trainer.py.train:144] Epoch 0 | Batch 10/178 | Timestep 10 | Loss 0.706001\n"
          ]
        },
        {
          "output_type": "stream",
          "name": "stderr",
          "text": [
            "INFO:comp9312.classify.trainer:Epoch 0 | Batch 20/178 | Timestep 20 | Loss 0.425321\n"
          ]
        },
        {
          "output_type": "stream",
          "name": "stdout",
          "text": [
            "[Mon, 19 Dec 2022 14:39:54] INFO [trainer.py.train:144] Epoch 0 | Batch 20/178 | Timestep 20 | Loss 0.425321\n"
          ]
        },
        {
          "output_type": "stream",
          "name": "stderr",
          "text": [
            "INFO:comp9312.classify.trainer:Epoch 0 | Batch 30/178 | Timestep 30 | Loss 0.699129\n"
          ]
        },
        {
          "output_type": "stream",
          "name": "stdout",
          "text": [
            "[Mon, 19 Dec 2022 14:39:55] INFO [trainer.py.train:144] Epoch 0 | Batch 30/178 | Timestep 30 | Loss 0.699129\n"
          ]
        },
        {
          "output_type": "stream",
          "name": "stderr",
          "text": [
            "INFO:comp9312.classify.trainer:Epoch 0 | Batch 40/178 | Timestep 40 | Loss 0.645982\n"
          ]
        },
        {
          "output_type": "stream",
          "name": "stdout",
          "text": [
            "[Mon, 19 Dec 2022 14:39:56] INFO [trainer.py.train:144] Epoch 0 | Batch 40/178 | Timestep 40 | Loss 0.645982\n"
          ]
        },
        {
          "output_type": "stream",
          "name": "stderr",
          "text": [
            "INFO:comp9312.classify.trainer:Epoch 0 | Batch 50/178 | Timestep 50 | Loss 0.496556\n"
          ]
        },
        {
          "output_type": "stream",
          "name": "stdout",
          "text": [
            "[Mon, 19 Dec 2022 14:39:57] INFO [trainer.py.train:144] Epoch 0 | Batch 50/178 | Timestep 50 | Loss 0.496556\n"
          ]
        },
        {
          "output_type": "stream",
          "name": "stderr",
          "text": [
            "INFO:comp9312.classify.trainer:Epoch 0 | Batch 60/178 | Timestep 60 | Loss 0.903873\n"
          ]
        },
        {
          "output_type": "stream",
          "name": "stdout",
          "text": [
            "[Mon, 19 Dec 2022 14:39:59] INFO [trainer.py.train:144] Epoch 0 | Batch 60/178 | Timestep 60 | Loss 0.903873\n"
          ]
        },
        {
          "output_type": "stream",
          "name": "stderr",
          "text": [
            "INFO:comp9312.classify.trainer:Epoch 0 | Batch 70/178 | Timestep 70 | Loss 0.704407\n"
          ]
        },
        {
          "output_type": "stream",
          "name": "stdout",
          "text": [
            "[Mon, 19 Dec 2022 14:40:00] INFO [trainer.py.train:144] Epoch 0 | Batch 70/178 | Timestep 70 | Loss 0.704407\n"
          ]
        },
        {
          "output_type": "stream",
          "name": "stderr",
          "text": [
            "INFO:comp9312.classify.trainer:Epoch 0 | Batch 80/178 | Timestep 80 | Loss 0.540375\n"
          ]
        },
        {
          "output_type": "stream",
          "name": "stdout",
          "text": [
            "[Mon, 19 Dec 2022 14:40:01] INFO [trainer.py.train:144] Epoch 0 | Batch 80/178 | Timestep 80 | Loss 0.540375\n"
          ]
        },
        {
          "output_type": "stream",
          "name": "stderr",
          "text": [
            "INFO:comp9312.classify.trainer:Epoch 0 | Batch 90/178 | Timestep 90 | Loss 0.555202\n"
          ]
        },
        {
          "output_type": "stream",
          "name": "stdout",
          "text": [
            "[Mon, 19 Dec 2022 14:40:02] INFO [trainer.py.train:144] Epoch 0 | Batch 90/178 | Timestep 90 | Loss 0.555202\n"
          ]
        },
        {
          "output_type": "stream",
          "name": "stderr",
          "text": [
            "INFO:comp9312.classify.trainer:Epoch 0 | Batch 100/178 | Timestep 100 | Loss 0.436401\n"
          ]
        },
        {
          "output_type": "stream",
          "name": "stdout",
          "text": [
            "[Mon, 19 Dec 2022 14:40:03] INFO [trainer.py.train:144] Epoch 0 | Batch 100/178 | Timestep 100 | Loss 0.436401\n"
          ]
        },
        {
          "output_type": "stream",
          "name": "stderr",
          "text": [
            "INFO:comp9312.classify.trainer:Epoch 0 | Batch 110/178 | Timestep 110 | Loss 0.604575\n"
          ]
        },
        {
          "output_type": "stream",
          "name": "stdout",
          "text": [
            "[Mon, 19 Dec 2022 14:40:04] INFO [trainer.py.train:144] Epoch 0 | Batch 110/178 | Timestep 110 | Loss 0.604575\n"
          ]
        },
        {
          "output_type": "stream",
          "name": "stderr",
          "text": [
            "INFO:comp9312.classify.trainer:Epoch 0 | Batch 120/178 | Timestep 120 | Loss 0.595218\n"
          ]
        },
        {
          "output_type": "stream",
          "name": "stdout",
          "text": [
            "[Mon, 19 Dec 2022 14:40:05] INFO [trainer.py.train:144] Epoch 0 | Batch 120/178 | Timestep 120 | Loss 0.595218\n"
          ]
        },
        {
          "output_type": "stream",
          "name": "stderr",
          "text": [
            "INFO:comp9312.classify.trainer:Epoch 0 | Batch 130/178 | Timestep 130 | Loss 1.005439\n"
          ]
        },
        {
          "output_type": "stream",
          "name": "stdout",
          "text": [
            "[Mon, 19 Dec 2022 14:40:06] INFO [trainer.py.train:144] Epoch 0 | Batch 130/178 | Timestep 130 | Loss 1.005439\n"
          ]
        },
        {
          "output_type": "stream",
          "name": "stderr",
          "text": [
            "INFO:comp9312.classify.trainer:Epoch 0 | Batch 140/178 | Timestep 140 | Loss 0.571507\n"
          ]
        },
        {
          "output_type": "stream",
          "name": "stdout",
          "text": [
            "[Mon, 19 Dec 2022 14:40:08] INFO [trainer.py.train:144] Epoch 0 | Batch 140/178 | Timestep 140 | Loss 0.571507\n"
          ]
        },
        {
          "output_type": "stream",
          "name": "stderr",
          "text": [
            "INFO:comp9312.classify.trainer:Epoch 0 | Batch 150/178 | Timestep 150 | Loss 1.196174\n"
          ]
        },
        {
          "output_type": "stream",
          "name": "stdout",
          "text": [
            "[Mon, 19 Dec 2022 14:40:09] INFO [trainer.py.train:144] Epoch 0 | Batch 150/178 | Timestep 150 | Loss 1.196174\n"
          ]
        },
        {
          "output_type": "stream",
          "name": "stderr",
          "text": [
            "INFO:comp9312.classify.trainer:Epoch 0 | Batch 160/178 | Timestep 160 | Loss 0.489182\n"
          ]
        },
        {
          "output_type": "stream",
          "name": "stdout",
          "text": [
            "[Mon, 19 Dec 2022 14:40:10] INFO [trainer.py.train:144] Epoch 0 | Batch 160/178 | Timestep 160 | Loss 0.489182\n"
          ]
        },
        {
          "output_type": "stream",
          "name": "stderr",
          "text": [
            "INFO:comp9312.classify.trainer:Epoch 0 | Batch 170/178 | Timestep 170 | Loss 0.249097\n"
          ]
        },
        {
          "output_type": "stream",
          "name": "stdout",
          "text": [
            "[Mon, 19 Dec 2022 14:40:11] INFO [trainer.py.train:144] Epoch 0 | Batch 170/178 | Timestep 170 | Loss 0.249097\n"
          ]
        },
        {
          "output_type": "stream",
          "name": "stderr",
          "text": [
            "INFO:comp9312.classify.trainer:** Evaluating on validation dataset **\n"
          ]
        },
        {
          "output_type": "stream",
          "name": "stdout",
          "text": [
            "[Mon, 19 Dec 2022 14:40:12] INFO [trainer.py.train:155] ** Evaluating on validation dataset **\n"
          ]
        },
        {
          "output_type": "stream",
          "name": "stderr",
          "text": [
            "INFO:comp9312.classify.trainer:\n",
            "              precision    recall  f1-score   support\n",
            "\n",
            "    Negative       0.66      0.79      0.72        42\n",
            "    Positive       0.82      0.71      0.76        59\n",
            "\n",
            "    accuracy                           0.74       101\n",
            "   macro avg       0.74      0.75      0.74       101\n",
            "weighted avg       0.76      0.74      0.74       101\n",
            "\n"
          ]
        },
        {
          "output_type": "stream",
          "name": "stdout",
          "text": [
            "[Mon, 19 Dec 2022 14:40:12] INFO [trainer.py.compute_metrics:94] \n",
            "              precision    recall  f1-score   support\n",
            "\n",
            "    Negative       0.66      0.79      0.72        42\n",
            "    Positive       0.82      0.71      0.76        59\n",
            "\n",
            "    accuracy                           0.74       101\n",
            "   macro avg       0.74      0.75      0.74       101\n",
            "weighted avg       0.76      0.74      0.74       101\n",
            "\n"
          ]
        },
        {
          "output_type": "stream",
          "name": "stderr",
          "text": [
            "INFO:comp9312.classify.trainer:Epoch 0 | Timestep 178 | Train Loss 0.548019 | Val Loss 0.485019 | F1 Micro 0.742574\n"
          ]
        },
        {
          "output_type": "stream",
          "name": "stdout",
          "text": [
            "[Mon, 19 Dec 2022 14:40:12] INFO [trainer.py.train:159] Epoch 0 | Timestep 178 | Train Loss 0.548019 | Val Loss 0.485019 | F1 Micro 0.742574\n"
          ]
        },
        {
          "output_type": "stream",
          "name": "stderr",
          "text": [
            "INFO:comp9312.classify.trainer:** Validation improved, evaluating test data **\n"
          ]
        },
        {
          "output_type": "stream",
          "name": "stdout",
          "text": [
            "[Mon, 19 Dec 2022 14:40:12] INFO [trainer.py.train:170] ** Validation improved, evaluating test data **\n"
          ]
        },
        {
          "output_type": "stream",
          "name": "stderr",
          "text": [
            "INFO:comp9312.classify.trainer:\n",
            "              precision    recall  f1-score   support\n",
            "\n",
            "    Negative       0.65      0.77      0.70       204\n",
            "    Positive       0.82      0.72      0.77       303\n",
            "\n",
            "    accuracy                           0.74       507\n",
            "   macro avg       0.74      0.74      0.74       507\n",
            "weighted avg       0.75      0.74      0.74       507\n",
            "\n"
          ]
        },
        {
          "output_type": "stream",
          "name": "stdout",
          "text": [
            "[Mon, 19 Dec 2022 14:40:14] INFO [trainer.py.compute_metrics:94] \n",
            "              precision    recall  f1-score   support\n",
            "\n",
            "    Negative       0.65      0.77      0.70       204\n",
            "    Positive       0.82      0.72      0.77       303\n",
            "\n",
            "    accuracy                           0.74       507\n",
            "   macro avg       0.74      0.74      0.74       507\n",
            "weighted avg       0.75      0.74      0.74       507\n",
            "\n"
          ]
        },
        {
          "output_type": "stream",
          "name": "stderr",
          "text": [
            "INFO:comp9312.classify.trainer:Epoch 0 | Timestep 178 | Test Loss 0.522425 | F1 Micro 0.739645\n"
          ]
        },
        {
          "output_type": "stream",
          "name": "stdout",
          "text": [
            "[Mon, 19 Dec 2022 14:40:14] INFO [trainer.py.train:175] Epoch 0 | Timestep 178 | Test Loss 0.522425 | F1 Micro 0.739645\n"
          ]
        },
        {
          "output_type": "stream",
          "name": "stderr",
          "text": [
            "INFO:comp9312.classify.trainer:Saving checkpoint to /content/output/model.pt\n"
          ]
        },
        {
          "output_type": "stream",
          "name": "stdout",
          "text": [
            "[Mon, 19 Dec 2022 14:40:14] INFO [trainer.py.save:75] Saving checkpoint to /content/output/model.pt\n"
          ]
        },
        {
          "output_type": "stream",
          "name": "stderr",
          "text": [
            "INFO:comp9312.classify.trainer:Epoch 1 | Batch 2/178 | Timestep 180 | Loss 0.249618\n"
          ]
        },
        {
          "output_type": "stream",
          "name": "stdout",
          "text": [
            "[Mon, 19 Dec 2022 14:40:19] INFO [trainer.py.train:144] Epoch 1 | Batch 2/178 | Timestep 180 | Loss 0.249618\n"
          ]
        },
        {
          "output_type": "stream",
          "name": "stderr",
          "text": [
            "INFO:comp9312.classify.trainer:Epoch 1 | Batch 12/178 | Timestep 190 | Loss 0.200266\n"
          ]
        },
        {
          "output_type": "stream",
          "name": "stdout",
          "text": [
            "[Mon, 19 Dec 2022 14:40:21] INFO [trainer.py.train:144] Epoch 1 | Batch 12/178 | Timestep 190 | Loss 0.200266\n"
          ]
        },
        {
          "output_type": "stream",
          "name": "stderr",
          "text": [
            "INFO:comp9312.classify.trainer:Epoch 1 | Batch 22/178 | Timestep 200 | Loss 0.401218\n"
          ]
        },
        {
          "output_type": "stream",
          "name": "stdout",
          "text": [
            "[Mon, 19 Dec 2022 14:40:22] INFO [trainer.py.train:144] Epoch 1 | Batch 22/178 | Timestep 200 | Loss 0.401218\n"
          ]
        },
        {
          "output_type": "stream",
          "name": "stderr",
          "text": [
            "INFO:comp9312.classify.trainer:Epoch 1 | Batch 32/178 | Timestep 210 | Loss 0.607885\n"
          ]
        },
        {
          "output_type": "stream",
          "name": "stdout",
          "text": [
            "[Mon, 19 Dec 2022 14:40:23] INFO [trainer.py.train:144] Epoch 1 | Batch 32/178 | Timestep 210 | Loss 0.607885\n"
          ]
        },
        {
          "output_type": "stream",
          "name": "stderr",
          "text": [
            "INFO:comp9312.classify.trainer:Epoch 1 | Batch 42/178 | Timestep 220 | Loss 0.297256\n"
          ]
        },
        {
          "output_type": "stream",
          "name": "stdout",
          "text": [
            "[Mon, 19 Dec 2022 14:40:24] INFO [trainer.py.train:144] Epoch 1 | Batch 42/178 | Timestep 220 | Loss 0.297256\n"
          ]
        },
        {
          "output_type": "stream",
          "name": "stderr",
          "text": [
            "INFO:comp9312.classify.trainer:Epoch 1 | Batch 52/178 | Timestep 230 | Loss 0.280828\n"
          ]
        },
        {
          "output_type": "stream",
          "name": "stdout",
          "text": [
            "[Mon, 19 Dec 2022 14:40:25] INFO [trainer.py.train:144] Epoch 1 | Batch 52/178 | Timestep 230 | Loss 0.280828\n"
          ]
        },
        {
          "output_type": "stream",
          "name": "stderr",
          "text": [
            "INFO:comp9312.classify.trainer:Epoch 1 | Batch 62/178 | Timestep 240 | Loss 0.228382\n"
          ]
        },
        {
          "output_type": "stream",
          "name": "stdout",
          "text": [
            "[Mon, 19 Dec 2022 14:40:26] INFO [trainer.py.train:144] Epoch 1 | Batch 62/178 | Timestep 240 | Loss 0.228382\n"
          ]
        },
        {
          "output_type": "stream",
          "name": "stderr",
          "text": [
            "INFO:comp9312.classify.trainer:Epoch 1 | Batch 72/178 | Timestep 250 | Loss 0.342372\n"
          ]
        },
        {
          "output_type": "stream",
          "name": "stdout",
          "text": [
            "[Mon, 19 Dec 2022 14:40:27] INFO [trainer.py.train:144] Epoch 1 | Batch 72/178 | Timestep 250 | Loss 0.342372\n"
          ]
        },
        {
          "output_type": "stream",
          "name": "stderr",
          "text": [
            "INFO:comp9312.classify.trainer:Epoch 1 | Batch 82/178 | Timestep 260 | Loss 0.270225\n"
          ]
        },
        {
          "output_type": "stream",
          "name": "stdout",
          "text": [
            "[Mon, 19 Dec 2022 14:40:28] INFO [trainer.py.train:144] Epoch 1 | Batch 82/178 | Timestep 260 | Loss 0.270225\n"
          ]
        },
        {
          "output_type": "stream",
          "name": "stderr",
          "text": [
            "INFO:comp9312.classify.trainer:Epoch 1 | Batch 92/178 | Timestep 270 | Loss 0.465627\n"
          ]
        },
        {
          "output_type": "stream",
          "name": "stdout",
          "text": [
            "[Mon, 19 Dec 2022 14:40:30] INFO [trainer.py.train:144] Epoch 1 | Batch 92/178 | Timestep 270 | Loss 0.465627\n"
          ]
        },
        {
          "output_type": "stream",
          "name": "stderr",
          "text": [
            "INFO:comp9312.classify.trainer:Epoch 1 | Batch 102/178 | Timestep 280 | Loss 0.218955\n"
          ]
        },
        {
          "output_type": "stream",
          "name": "stdout",
          "text": [
            "[Mon, 19 Dec 2022 14:40:31] INFO [trainer.py.train:144] Epoch 1 | Batch 102/178 | Timestep 280 | Loss 0.218955\n"
          ]
        },
        {
          "output_type": "stream",
          "name": "stderr",
          "text": [
            "INFO:comp9312.classify.trainer:Epoch 1 | Batch 112/178 | Timestep 290 | Loss 0.133440\n"
          ]
        },
        {
          "output_type": "stream",
          "name": "stdout",
          "text": [
            "[Mon, 19 Dec 2022 14:40:32] INFO [trainer.py.train:144] Epoch 1 | Batch 112/178 | Timestep 290 | Loss 0.133440\n"
          ]
        },
        {
          "output_type": "stream",
          "name": "stderr",
          "text": [
            "INFO:comp9312.classify.trainer:Epoch 1 | Batch 122/178 | Timestep 300 | Loss 0.370841\n"
          ]
        },
        {
          "output_type": "stream",
          "name": "stdout",
          "text": [
            "[Mon, 19 Dec 2022 14:40:33] INFO [trainer.py.train:144] Epoch 1 | Batch 122/178 | Timestep 300 | Loss 0.370841\n"
          ]
        },
        {
          "output_type": "stream",
          "name": "stderr",
          "text": [
            "INFO:comp9312.classify.trainer:Epoch 1 | Batch 132/178 | Timestep 310 | Loss 0.220760\n"
          ]
        },
        {
          "output_type": "stream",
          "name": "stdout",
          "text": [
            "[Mon, 19 Dec 2022 14:40:35] INFO [trainer.py.train:144] Epoch 1 | Batch 132/178 | Timestep 310 | Loss 0.220760\n"
          ]
        },
        {
          "output_type": "stream",
          "name": "stderr",
          "text": [
            "INFO:comp9312.classify.trainer:Epoch 1 | Batch 142/178 | Timestep 320 | Loss 0.252898\n"
          ]
        },
        {
          "output_type": "stream",
          "name": "stdout",
          "text": [
            "[Mon, 19 Dec 2022 14:40:36] INFO [trainer.py.train:144] Epoch 1 | Batch 142/178 | Timestep 320 | Loss 0.252898\n"
          ]
        },
        {
          "output_type": "stream",
          "name": "stderr",
          "text": [
            "INFO:comp9312.classify.trainer:Epoch 1 | Batch 152/178 | Timestep 330 | Loss 0.671249\n"
          ]
        },
        {
          "output_type": "stream",
          "name": "stdout",
          "text": [
            "[Mon, 19 Dec 2022 14:40:37] INFO [trainer.py.train:144] Epoch 1 | Batch 152/178 | Timestep 330 | Loss 0.671249\n"
          ]
        },
        {
          "output_type": "stream",
          "name": "stderr",
          "text": [
            "INFO:comp9312.classify.trainer:Epoch 1 | Batch 162/178 | Timestep 340 | Loss 0.183634\n"
          ]
        },
        {
          "output_type": "stream",
          "name": "stdout",
          "text": [
            "[Mon, 19 Dec 2022 14:40:38] INFO [trainer.py.train:144] Epoch 1 | Batch 162/178 | Timestep 340 | Loss 0.183634\n"
          ]
        },
        {
          "output_type": "stream",
          "name": "stderr",
          "text": [
            "INFO:comp9312.classify.trainer:Epoch 1 | Batch 172/178 | Timestep 350 | Loss 0.430258\n"
          ]
        },
        {
          "output_type": "stream",
          "name": "stdout",
          "text": [
            "[Mon, 19 Dec 2022 14:40:39] INFO [trainer.py.train:144] Epoch 1 | Batch 172/178 | Timestep 350 | Loss 0.430258\n"
          ]
        },
        {
          "output_type": "stream",
          "name": "stderr",
          "text": [
            "INFO:comp9312.classify.trainer:** Evaluating on validation dataset **\n"
          ]
        },
        {
          "output_type": "stream",
          "name": "stdout",
          "text": [
            "[Mon, 19 Dec 2022 14:40:40] INFO [trainer.py.train:155] ** Evaluating on validation dataset **\n"
          ]
        },
        {
          "output_type": "stream",
          "name": "stderr",
          "text": [
            "INFO:comp9312.classify.trainer:\n",
            "              precision    recall  f1-score   support\n",
            "\n",
            "    Negative       0.88      0.52      0.66        42\n",
            "    Positive       0.74      0.95      0.83        59\n",
            "\n",
            "    accuracy                           0.77       101\n",
            "   macro avg       0.81      0.74      0.74       101\n",
            "weighted avg       0.80      0.77      0.76       101\n",
            "\n"
          ]
        },
        {
          "output_type": "stream",
          "name": "stdout",
          "text": [
            "[Mon, 19 Dec 2022 14:40:40] INFO [trainer.py.compute_metrics:94] \n",
            "              precision    recall  f1-score   support\n",
            "\n",
            "    Negative       0.88      0.52      0.66        42\n",
            "    Positive       0.74      0.95      0.83        59\n",
            "\n",
            "    accuracy                           0.77       101\n",
            "   macro avg       0.81      0.74      0.74       101\n",
            "weighted avg       0.80      0.77      0.76       101\n",
            "\n"
          ]
        },
        {
          "output_type": "stream",
          "name": "stderr",
          "text": [
            "INFO:comp9312.classify.trainer:Epoch 1 | Timestep 356 | Train Loss 0.329084 | Val Loss 0.529186 | F1 Micro 0.772277\n"
          ]
        },
        {
          "output_type": "stream",
          "name": "stdout",
          "text": [
            "[Mon, 19 Dec 2022 14:40:40] INFO [trainer.py.train:159] Epoch 1 | Timestep 356 | Train Loss 0.329084 | Val Loss 0.529186 | F1 Micro 0.772277\n"
          ]
        },
        {
          "output_type": "stream",
          "name": "stderr",
          "text": [
            "INFO:comp9312.classify.trainer:Epoch 2 | Batch 4/178 | Timestep 360 | Loss 0.342675\n"
          ]
        },
        {
          "output_type": "stream",
          "name": "stdout",
          "text": [
            "[Mon, 19 Dec 2022 14:40:41] INFO [trainer.py.train:144] Epoch 2 | Batch 4/178 | Timestep 360 | Loss 0.342675\n"
          ]
        },
        {
          "output_type": "stream",
          "name": "stderr",
          "text": [
            "INFO:comp9312.classify.trainer:Epoch 2 | Batch 14/178 | Timestep 370 | Loss 0.050328\n"
          ]
        },
        {
          "output_type": "stream",
          "name": "stdout",
          "text": [
            "[Mon, 19 Dec 2022 14:40:42] INFO [trainer.py.train:144] Epoch 2 | Batch 14/178 | Timestep 370 | Loss 0.050328\n"
          ]
        },
        {
          "output_type": "stream",
          "name": "stderr",
          "text": [
            "INFO:comp9312.classify.trainer:Epoch 2 | Batch 24/178 | Timestep 380 | Loss 0.195822\n"
          ]
        },
        {
          "output_type": "stream",
          "name": "stdout",
          "text": [
            "[Mon, 19 Dec 2022 14:40:43] INFO [trainer.py.train:144] Epoch 2 | Batch 24/178 | Timestep 380 | Loss 0.195822\n"
          ]
        },
        {
          "output_type": "stream",
          "name": "stderr",
          "text": [
            "INFO:comp9312.classify.trainer:Epoch 2 | Batch 34/178 | Timestep 390 | Loss 0.054438\n"
          ]
        },
        {
          "output_type": "stream",
          "name": "stdout",
          "text": [
            "[Mon, 19 Dec 2022 14:40:44] INFO [trainer.py.train:144] Epoch 2 | Batch 34/178 | Timestep 390 | Loss 0.054438\n"
          ]
        },
        {
          "output_type": "stream",
          "name": "stderr",
          "text": [
            "INFO:comp9312.classify.trainer:Epoch 2 | Batch 44/178 | Timestep 400 | Loss 0.094662\n"
          ]
        },
        {
          "output_type": "stream",
          "name": "stdout",
          "text": [
            "[Mon, 19 Dec 2022 14:40:45] INFO [trainer.py.train:144] Epoch 2 | Batch 44/178 | Timestep 400 | Loss 0.094662\n"
          ]
        },
        {
          "output_type": "stream",
          "name": "stderr",
          "text": [
            "INFO:comp9312.classify.trainer:Epoch 2 | Batch 54/178 | Timestep 410 | Loss 0.158795\n"
          ]
        },
        {
          "output_type": "stream",
          "name": "stdout",
          "text": [
            "[Mon, 19 Dec 2022 14:40:46] INFO [trainer.py.train:144] Epoch 2 | Batch 54/178 | Timestep 410 | Loss 0.158795\n"
          ]
        },
        {
          "output_type": "stream",
          "name": "stderr",
          "text": [
            "INFO:comp9312.classify.trainer:Epoch 2 | Batch 64/178 | Timestep 420 | Loss 0.186660\n"
          ]
        },
        {
          "output_type": "stream",
          "name": "stdout",
          "text": [
            "[Mon, 19 Dec 2022 14:40:47] INFO [trainer.py.train:144] Epoch 2 | Batch 64/178 | Timestep 420 | Loss 0.186660\n"
          ]
        },
        {
          "output_type": "stream",
          "name": "stderr",
          "text": [
            "INFO:comp9312.classify.trainer:Epoch 2 | Batch 74/178 | Timestep 430 | Loss 0.095564\n"
          ]
        },
        {
          "output_type": "stream",
          "name": "stdout",
          "text": [
            "[Mon, 19 Dec 2022 14:40:49] INFO [trainer.py.train:144] Epoch 2 | Batch 74/178 | Timestep 430 | Loss 0.095564\n"
          ]
        },
        {
          "output_type": "stream",
          "name": "stderr",
          "text": [
            "INFO:comp9312.classify.trainer:Epoch 2 | Batch 84/178 | Timestep 440 | Loss 0.071889\n"
          ]
        },
        {
          "output_type": "stream",
          "name": "stdout",
          "text": [
            "[Mon, 19 Dec 2022 14:40:50] INFO [trainer.py.train:144] Epoch 2 | Batch 84/178 | Timestep 440 | Loss 0.071889\n"
          ]
        },
        {
          "output_type": "stream",
          "name": "stderr",
          "text": [
            "INFO:comp9312.classify.trainer:Epoch 2 | Batch 94/178 | Timestep 450 | Loss 0.365316\n"
          ]
        },
        {
          "output_type": "stream",
          "name": "stdout",
          "text": [
            "[Mon, 19 Dec 2022 14:40:51] INFO [trainer.py.train:144] Epoch 2 | Batch 94/178 | Timestep 450 | Loss 0.365316\n"
          ]
        },
        {
          "output_type": "stream",
          "name": "stderr",
          "text": [
            "INFO:comp9312.classify.trainer:Epoch 2 | Batch 104/178 | Timestep 460 | Loss 0.379430\n"
          ]
        },
        {
          "output_type": "stream",
          "name": "stdout",
          "text": [
            "[Mon, 19 Dec 2022 14:40:52] INFO [trainer.py.train:144] Epoch 2 | Batch 104/178 | Timestep 460 | Loss 0.379430\n"
          ]
        },
        {
          "output_type": "stream",
          "name": "stderr",
          "text": [
            "INFO:comp9312.classify.trainer:Epoch 2 | Batch 114/178 | Timestep 470 | Loss 0.199820\n"
          ]
        },
        {
          "output_type": "stream",
          "name": "stdout",
          "text": [
            "[Mon, 19 Dec 2022 14:40:53] INFO [trainer.py.train:144] Epoch 2 | Batch 114/178 | Timestep 470 | Loss 0.199820\n"
          ]
        },
        {
          "output_type": "stream",
          "name": "stderr",
          "text": [
            "INFO:comp9312.classify.trainer:Epoch 2 | Batch 124/178 | Timestep 480 | Loss 0.019283\n"
          ]
        },
        {
          "output_type": "stream",
          "name": "stdout",
          "text": [
            "[Mon, 19 Dec 2022 14:40:55] INFO [trainer.py.train:144] Epoch 2 | Batch 124/178 | Timestep 480 | Loss 0.019283\n"
          ]
        },
        {
          "output_type": "stream",
          "name": "stderr",
          "text": [
            "INFO:comp9312.classify.trainer:Epoch 2 | Batch 134/178 | Timestep 490 | Loss 0.014464\n"
          ]
        },
        {
          "output_type": "stream",
          "name": "stdout",
          "text": [
            "[Mon, 19 Dec 2022 14:40:56] INFO [trainer.py.train:144] Epoch 2 | Batch 134/178 | Timestep 490 | Loss 0.014464\n"
          ]
        },
        {
          "output_type": "stream",
          "name": "stderr",
          "text": [
            "INFO:comp9312.classify.trainer:Epoch 2 | Batch 144/178 | Timestep 500 | Loss 0.185789\n"
          ]
        },
        {
          "output_type": "stream",
          "name": "stdout",
          "text": [
            "[Mon, 19 Dec 2022 14:40:57] INFO [trainer.py.train:144] Epoch 2 | Batch 144/178 | Timestep 500 | Loss 0.185789\n"
          ]
        },
        {
          "output_type": "stream",
          "name": "stderr",
          "text": [
            "INFO:comp9312.classify.trainer:Epoch 2 | Batch 154/178 | Timestep 510 | Loss 0.007888\n"
          ]
        },
        {
          "output_type": "stream",
          "name": "stdout",
          "text": [
            "[Mon, 19 Dec 2022 14:40:58] INFO [trainer.py.train:144] Epoch 2 | Batch 154/178 | Timestep 510 | Loss 0.007888\n"
          ]
        },
        {
          "output_type": "stream",
          "name": "stderr",
          "text": [
            "INFO:comp9312.classify.trainer:Epoch 2 | Batch 164/178 | Timestep 520 | Loss 0.291384\n"
          ]
        },
        {
          "output_type": "stream",
          "name": "stdout",
          "text": [
            "[Mon, 19 Dec 2022 14:40:59] INFO [trainer.py.train:144] Epoch 2 | Batch 164/178 | Timestep 520 | Loss 0.291384\n"
          ]
        },
        {
          "output_type": "stream",
          "name": "stderr",
          "text": [
            "INFO:comp9312.classify.trainer:Epoch 2 | Batch 174/178 | Timestep 530 | Loss 0.010718\n"
          ]
        },
        {
          "output_type": "stream",
          "name": "stdout",
          "text": [
            "[Mon, 19 Dec 2022 14:41:01] INFO [trainer.py.train:144] Epoch 2 | Batch 174/178 | Timestep 530 | Loss 0.010718\n"
          ]
        },
        {
          "output_type": "stream",
          "name": "stderr",
          "text": [
            "INFO:comp9312.classify.trainer:** Evaluating on validation dataset **\n"
          ]
        },
        {
          "output_type": "stream",
          "name": "stdout",
          "text": [
            "[Mon, 19 Dec 2022 14:41:01] INFO [trainer.py.train:155] ** Evaluating on validation dataset **\n"
          ]
        },
        {
          "output_type": "stream",
          "name": "stderr",
          "text": [
            "INFO:comp9312.classify.trainer:\n",
            "              precision    recall  f1-score   support\n",
            "\n",
            "    Negative       0.83      0.71      0.77        42\n",
            "    Positive       0.82      0.90      0.85        59\n",
            "\n",
            "    accuracy                           0.82       101\n",
            "   macro avg       0.82      0.81      0.81       101\n",
            "weighted avg       0.82      0.82      0.82       101\n",
            "\n"
          ]
        },
        {
          "output_type": "stream",
          "name": "stdout",
          "text": [
            "[Mon, 19 Dec 2022 14:41:02] INFO [trainer.py.compute_metrics:94] \n",
            "              precision    recall  f1-score   support\n",
            "\n",
            "    Negative       0.83      0.71      0.77        42\n",
            "    Positive       0.82      0.90      0.85        59\n",
            "\n",
            "    accuracy                           0.82       101\n",
            "   macro avg       0.82      0.81      0.81       101\n",
            "weighted avg       0.82      0.82      0.82       101\n",
            "\n"
          ]
        },
        {
          "output_type": "stream",
          "name": "stderr",
          "text": [
            "INFO:comp9312.classify.trainer:Epoch 2 | Timestep 534 | Train Loss 0.157744 | Val Loss 0.619591 | F1 Micro 0.821782\n"
          ]
        },
        {
          "output_type": "stream",
          "name": "stdout",
          "text": [
            "[Mon, 19 Dec 2022 14:41:02] INFO [trainer.py.train:159] Epoch 2 | Timestep 534 | Train Loss 0.157744 | Val Loss 0.619591 | F1 Micro 0.821782\n"
          ]
        },
        {
          "output_type": "stream",
          "name": "stderr",
          "text": [
            "INFO:comp9312.classify.trainer:Epoch 3 | Batch 6/178 | Timestep 540 | Loss 0.048743\n"
          ]
        },
        {
          "output_type": "stream",
          "name": "stdout",
          "text": [
            "[Mon, 19 Dec 2022 14:41:02] INFO [trainer.py.train:144] Epoch 3 | Batch 6/178 | Timestep 540 | Loss 0.048743\n"
          ]
        },
        {
          "output_type": "stream",
          "name": "stderr",
          "text": [
            "INFO:comp9312.classify.trainer:Epoch 3 | Batch 16/178 | Timestep 550 | Loss 0.021335\n"
          ]
        },
        {
          "output_type": "stream",
          "name": "stdout",
          "text": [
            "[Mon, 19 Dec 2022 14:41:03] INFO [trainer.py.train:144] Epoch 3 | Batch 16/178 | Timestep 550 | Loss 0.021335\n"
          ]
        },
        {
          "output_type": "stream",
          "name": "stderr",
          "text": [
            "INFO:comp9312.classify.trainer:Epoch 3 | Batch 26/178 | Timestep 560 | Loss 0.004888\n"
          ]
        },
        {
          "output_type": "stream",
          "name": "stdout",
          "text": [
            "[Mon, 19 Dec 2022 14:41:04] INFO [trainer.py.train:144] Epoch 3 | Batch 26/178 | Timestep 560 | Loss 0.004888\n"
          ]
        },
        {
          "output_type": "stream",
          "name": "stderr",
          "text": [
            "INFO:comp9312.classify.trainer:Epoch 3 | Batch 36/178 | Timestep 570 | Loss 0.047101\n"
          ]
        },
        {
          "output_type": "stream",
          "name": "stdout",
          "text": [
            "[Mon, 19 Dec 2022 14:41:05] INFO [trainer.py.train:144] Epoch 3 | Batch 36/178 | Timestep 570 | Loss 0.047101\n"
          ]
        },
        {
          "output_type": "stream",
          "name": "stderr",
          "text": [
            "INFO:comp9312.classify.trainer:Epoch 3 | Batch 46/178 | Timestep 580 | Loss 0.304617\n"
          ]
        },
        {
          "output_type": "stream",
          "name": "stdout",
          "text": [
            "[Mon, 19 Dec 2022 14:41:07] INFO [trainer.py.train:144] Epoch 3 | Batch 46/178 | Timestep 580 | Loss 0.304617\n"
          ]
        },
        {
          "output_type": "stream",
          "name": "stderr",
          "text": [
            "INFO:comp9312.classify.trainer:Epoch 3 | Batch 56/178 | Timestep 590 | Loss 0.044833\n"
          ]
        },
        {
          "output_type": "stream",
          "name": "stdout",
          "text": [
            "[Mon, 19 Dec 2022 14:41:08] INFO [trainer.py.train:144] Epoch 3 | Batch 56/178 | Timestep 590 | Loss 0.044833\n"
          ]
        },
        {
          "output_type": "stream",
          "name": "stderr",
          "text": [
            "INFO:comp9312.classify.trainer:Epoch 3 | Batch 66/178 | Timestep 600 | Loss 0.052394\n"
          ]
        },
        {
          "output_type": "stream",
          "name": "stdout",
          "text": [
            "[Mon, 19 Dec 2022 14:41:09] INFO [trainer.py.train:144] Epoch 3 | Batch 66/178 | Timestep 600 | Loss 0.052394\n"
          ]
        },
        {
          "output_type": "stream",
          "name": "stderr",
          "text": [
            "INFO:comp9312.classify.trainer:Epoch 3 | Batch 76/178 | Timestep 610 | Loss 0.007445\n"
          ]
        },
        {
          "output_type": "stream",
          "name": "stdout",
          "text": [
            "[Mon, 19 Dec 2022 14:41:10] INFO [trainer.py.train:144] Epoch 3 | Batch 76/178 | Timestep 610 | Loss 0.007445\n"
          ]
        },
        {
          "output_type": "stream",
          "name": "stderr",
          "text": [
            "INFO:comp9312.classify.trainer:Epoch 3 | Batch 86/178 | Timestep 620 | Loss 0.028115\n"
          ]
        },
        {
          "output_type": "stream",
          "name": "stdout",
          "text": [
            "[Mon, 19 Dec 2022 14:41:11] INFO [trainer.py.train:144] Epoch 3 | Batch 86/178 | Timestep 620 | Loss 0.028115\n"
          ]
        },
        {
          "output_type": "stream",
          "name": "stderr",
          "text": [
            "INFO:comp9312.classify.trainer:Epoch 3 | Batch 96/178 | Timestep 630 | Loss 0.023282\n"
          ]
        },
        {
          "output_type": "stream",
          "name": "stdout",
          "text": [
            "[Mon, 19 Dec 2022 14:41:13] INFO [trainer.py.train:144] Epoch 3 | Batch 96/178 | Timestep 630 | Loss 0.023282\n"
          ]
        },
        {
          "output_type": "stream",
          "name": "stderr",
          "text": [
            "INFO:comp9312.classify.trainer:Epoch 3 | Batch 106/178 | Timestep 640 | Loss 0.010281\n"
          ]
        },
        {
          "output_type": "stream",
          "name": "stdout",
          "text": [
            "[Mon, 19 Dec 2022 14:41:14] INFO [trainer.py.train:144] Epoch 3 | Batch 106/178 | Timestep 640 | Loss 0.010281\n"
          ]
        },
        {
          "output_type": "stream",
          "name": "stderr",
          "text": [
            "INFO:comp9312.classify.trainer:Epoch 3 | Batch 116/178 | Timestep 650 | Loss 0.047002\n"
          ]
        },
        {
          "output_type": "stream",
          "name": "stdout",
          "text": [
            "[Mon, 19 Dec 2022 14:41:15] INFO [trainer.py.train:144] Epoch 3 | Batch 116/178 | Timestep 650 | Loss 0.047002\n"
          ]
        },
        {
          "output_type": "stream",
          "name": "stderr",
          "text": [
            "INFO:comp9312.classify.trainer:Epoch 3 | Batch 126/178 | Timestep 660 | Loss 0.014194\n"
          ]
        },
        {
          "output_type": "stream",
          "name": "stdout",
          "text": [
            "[Mon, 19 Dec 2022 14:41:16] INFO [trainer.py.train:144] Epoch 3 | Batch 126/178 | Timestep 660 | Loss 0.014194\n"
          ]
        },
        {
          "output_type": "stream",
          "name": "stderr",
          "text": [
            "INFO:comp9312.classify.trainer:Epoch 3 | Batch 136/178 | Timestep 670 | Loss 0.002071\n"
          ]
        },
        {
          "output_type": "stream",
          "name": "stdout",
          "text": [
            "[Mon, 19 Dec 2022 14:41:17] INFO [trainer.py.train:144] Epoch 3 | Batch 136/178 | Timestep 670 | Loss 0.002071\n"
          ]
        },
        {
          "output_type": "stream",
          "name": "stderr",
          "text": [
            "INFO:comp9312.classify.trainer:Epoch 3 | Batch 146/178 | Timestep 680 | Loss 0.709221\n"
          ]
        },
        {
          "output_type": "stream",
          "name": "stdout",
          "text": [
            "[Mon, 19 Dec 2022 14:41:19] INFO [trainer.py.train:144] Epoch 3 | Batch 146/178 | Timestep 680 | Loss 0.709221\n"
          ]
        },
        {
          "output_type": "stream",
          "name": "stderr",
          "text": [
            "INFO:comp9312.classify.trainer:Epoch 3 | Batch 156/178 | Timestep 690 | Loss 0.126561\n"
          ]
        },
        {
          "output_type": "stream",
          "name": "stdout",
          "text": [
            "[Mon, 19 Dec 2022 14:41:20] INFO [trainer.py.train:144] Epoch 3 | Batch 156/178 | Timestep 690 | Loss 0.126561\n"
          ]
        },
        {
          "output_type": "stream",
          "name": "stderr",
          "text": [
            "INFO:comp9312.classify.trainer:Epoch 3 | Batch 166/178 | Timestep 700 | Loss 0.626477\n"
          ]
        },
        {
          "output_type": "stream",
          "name": "stdout",
          "text": [
            "[Mon, 19 Dec 2022 14:41:21] INFO [trainer.py.train:144] Epoch 3 | Batch 166/178 | Timestep 700 | Loss 0.626477\n"
          ]
        },
        {
          "output_type": "stream",
          "name": "stderr",
          "text": [
            "INFO:comp9312.classify.trainer:Epoch 3 | Batch 176/178 | Timestep 710 | Loss 0.437055\n"
          ]
        },
        {
          "output_type": "stream",
          "name": "stdout",
          "text": [
            "[Mon, 19 Dec 2022 14:41:22] INFO [trainer.py.train:144] Epoch 3 | Batch 176/178 | Timestep 710 | Loss 0.437055\n"
          ]
        },
        {
          "output_type": "stream",
          "name": "stderr",
          "text": [
            "INFO:comp9312.classify.trainer:** Evaluating on validation dataset **\n"
          ]
        },
        {
          "output_type": "stream",
          "name": "stdout",
          "text": [
            "[Mon, 19 Dec 2022 14:41:22] INFO [trainer.py.train:155] ** Evaluating on validation dataset **\n"
          ]
        },
        {
          "output_type": "stream",
          "name": "stderr",
          "text": [
            "INFO:comp9312.classify.trainer:\n",
            "              precision    recall  f1-score   support\n",
            "\n",
            "    Negative       0.72      0.74      0.73        42\n",
            "    Positive       0.81      0.80      0.80        59\n",
            "\n",
            "    accuracy                           0.77       101\n",
            "   macro avg       0.77      0.77      0.77       101\n",
            "weighted avg       0.77      0.77      0.77       101\n",
            "\n"
          ]
        },
        {
          "output_type": "stream",
          "name": "stdout",
          "text": [
            "[Mon, 19 Dec 2022 14:41:23] INFO [trainer.py.compute_metrics:94] \n",
            "              precision    recall  f1-score   support\n",
            "\n",
            "    Negative       0.72      0.74      0.73        42\n",
            "    Positive       0.81      0.80      0.80        59\n",
            "\n",
            "    accuracy                           0.77       101\n",
            "   macro avg       0.77      0.77      0.77       101\n",
            "weighted avg       0.77      0.77      0.77       101\n",
            "\n"
          ]
        },
        {
          "output_type": "stream",
          "name": "stderr",
          "text": [
            "INFO:comp9312.classify.trainer:Epoch 3 | Timestep 712 | Train Loss 0.083211 | Val Loss 0.779456 | F1 Micro 0.772277\n"
          ]
        },
        {
          "output_type": "stream",
          "name": "stdout",
          "text": [
            "[Mon, 19 Dec 2022 14:41:23] INFO [trainer.py.train:159] Epoch 3 | Timestep 712 | Train Loss 0.083211 | Val Loss 0.779456 | F1 Micro 0.772277\n"
          ]
        },
        {
          "output_type": "stream",
          "name": "stderr",
          "text": [
            "INFO:comp9312.classify.trainer:Epoch 4 | Batch 8/178 | Timestep 720 | Loss 0.027312\n"
          ]
        },
        {
          "output_type": "stream",
          "name": "stdout",
          "text": [
            "[Mon, 19 Dec 2022 14:41:24] INFO [trainer.py.train:144] Epoch 4 | Batch 8/178 | Timestep 720 | Loss 0.027312\n"
          ]
        },
        {
          "output_type": "stream",
          "name": "stderr",
          "text": [
            "INFO:comp9312.classify.trainer:Epoch 4 | Batch 18/178 | Timestep 730 | Loss 0.017805\n"
          ]
        },
        {
          "output_type": "stream",
          "name": "stdout",
          "text": [
            "[Mon, 19 Dec 2022 14:41:25] INFO [trainer.py.train:144] Epoch 4 | Batch 18/178 | Timestep 730 | Loss 0.017805\n"
          ]
        },
        {
          "output_type": "stream",
          "name": "stderr",
          "text": [
            "INFO:comp9312.classify.trainer:Epoch 4 | Batch 28/178 | Timestep 740 | Loss 0.082761\n"
          ]
        },
        {
          "output_type": "stream",
          "name": "stdout",
          "text": [
            "[Mon, 19 Dec 2022 14:41:26] INFO [trainer.py.train:144] Epoch 4 | Batch 28/178 | Timestep 740 | Loss 0.082761\n"
          ]
        },
        {
          "output_type": "stream",
          "name": "stderr",
          "text": [
            "INFO:comp9312.classify.trainer:Epoch 4 | Batch 38/178 | Timestep 750 | Loss 0.031397\n"
          ]
        },
        {
          "output_type": "stream",
          "name": "stdout",
          "text": [
            "[Mon, 19 Dec 2022 14:41:27] INFO [trainer.py.train:144] Epoch 4 | Batch 38/178 | Timestep 750 | Loss 0.031397\n"
          ]
        },
        {
          "output_type": "stream",
          "name": "stderr",
          "text": [
            "INFO:comp9312.classify.trainer:Epoch 4 | Batch 48/178 | Timestep 760 | Loss 0.376848\n"
          ]
        },
        {
          "output_type": "stream",
          "name": "stdout",
          "text": [
            "[Mon, 19 Dec 2022 14:41:28] INFO [trainer.py.train:144] Epoch 4 | Batch 48/178 | Timestep 760 | Loss 0.376848\n"
          ]
        },
        {
          "output_type": "stream",
          "name": "stderr",
          "text": [
            "INFO:comp9312.classify.trainer:Epoch 4 | Batch 58/178 | Timestep 770 | Loss 0.008976\n"
          ]
        },
        {
          "output_type": "stream",
          "name": "stdout",
          "text": [
            "[Mon, 19 Dec 2022 14:41:29] INFO [trainer.py.train:144] Epoch 4 | Batch 58/178 | Timestep 770 | Loss 0.008976\n"
          ]
        },
        {
          "output_type": "stream",
          "name": "stderr",
          "text": [
            "INFO:comp9312.classify.trainer:Epoch 4 | Batch 68/178 | Timestep 780 | Loss 0.002988\n"
          ]
        },
        {
          "output_type": "stream",
          "name": "stdout",
          "text": [
            "[Mon, 19 Dec 2022 14:41:31] INFO [trainer.py.train:144] Epoch 4 | Batch 68/178 | Timestep 780 | Loss 0.002988\n"
          ]
        },
        {
          "output_type": "stream",
          "name": "stderr",
          "text": [
            "INFO:comp9312.classify.trainer:Epoch 4 | Batch 78/178 | Timestep 790 | Loss 0.013025\n"
          ]
        },
        {
          "output_type": "stream",
          "name": "stdout",
          "text": [
            "[Mon, 19 Dec 2022 14:41:32] INFO [trainer.py.train:144] Epoch 4 | Batch 78/178 | Timestep 790 | Loss 0.013025\n"
          ]
        },
        {
          "output_type": "stream",
          "name": "stderr",
          "text": [
            "INFO:comp9312.classify.trainer:Epoch 4 | Batch 88/178 | Timestep 800 | Loss 0.006472\n"
          ]
        },
        {
          "output_type": "stream",
          "name": "stdout",
          "text": [
            "[Mon, 19 Dec 2022 14:41:33] INFO [trainer.py.train:144] Epoch 4 | Batch 88/178 | Timestep 800 | Loss 0.006472\n"
          ]
        },
        {
          "output_type": "stream",
          "name": "stderr",
          "text": [
            "INFO:comp9312.classify.trainer:Epoch 4 | Batch 98/178 | Timestep 810 | Loss 0.010824\n"
          ]
        },
        {
          "output_type": "stream",
          "name": "stdout",
          "text": [
            "[Mon, 19 Dec 2022 14:41:34] INFO [trainer.py.train:144] Epoch 4 | Batch 98/178 | Timestep 810 | Loss 0.010824\n"
          ]
        },
        {
          "output_type": "stream",
          "name": "stderr",
          "text": [
            "INFO:comp9312.classify.trainer:Epoch 4 | Batch 108/178 | Timestep 820 | Loss 0.075958\n"
          ]
        },
        {
          "output_type": "stream",
          "name": "stdout",
          "text": [
            "[Mon, 19 Dec 2022 14:41:35] INFO [trainer.py.train:144] Epoch 4 | Batch 108/178 | Timestep 820 | Loss 0.075958\n"
          ]
        },
        {
          "output_type": "stream",
          "name": "stderr",
          "text": [
            "INFO:comp9312.classify.trainer:Epoch 4 | Batch 118/178 | Timestep 830 | Loss 0.082520\n"
          ]
        },
        {
          "output_type": "stream",
          "name": "stdout",
          "text": [
            "[Mon, 19 Dec 2022 14:41:36] INFO [trainer.py.train:144] Epoch 4 | Batch 118/178 | Timestep 830 | Loss 0.082520\n"
          ]
        },
        {
          "output_type": "stream",
          "name": "stderr",
          "text": [
            "INFO:comp9312.classify.trainer:Epoch 4 | Batch 128/178 | Timestep 840 | Loss 0.004359\n"
          ]
        },
        {
          "output_type": "stream",
          "name": "stdout",
          "text": [
            "[Mon, 19 Dec 2022 14:41:37] INFO [trainer.py.train:144] Epoch 4 | Batch 128/178 | Timestep 840 | Loss 0.004359\n"
          ]
        },
        {
          "output_type": "stream",
          "name": "stderr",
          "text": [
            "INFO:comp9312.classify.trainer:Epoch 4 | Batch 138/178 | Timestep 850 | Loss 0.081565\n"
          ]
        },
        {
          "output_type": "stream",
          "name": "stdout",
          "text": [
            "[Mon, 19 Dec 2022 14:41:38] INFO [trainer.py.train:144] Epoch 4 | Batch 138/178 | Timestep 850 | Loss 0.081565\n"
          ]
        },
        {
          "output_type": "stream",
          "name": "stderr",
          "text": [
            "INFO:comp9312.classify.trainer:Epoch 4 | Batch 148/178 | Timestep 860 | Loss 0.001714\n"
          ]
        },
        {
          "output_type": "stream",
          "name": "stdout",
          "text": [
            "[Mon, 19 Dec 2022 14:41:40] INFO [trainer.py.train:144] Epoch 4 | Batch 148/178 | Timestep 860 | Loss 0.001714\n"
          ]
        },
        {
          "output_type": "stream",
          "name": "stderr",
          "text": [
            "INFO:comp9312.classify.trainer:Epoch 4 | Batch 158/178 | Timestep 870 | Loss 0.004577\n"
          ]
        },
        {
          "output_type": "stream",
          "name": "stdout",
          "text": [
            "[Mon, 19 Dec 2022 14:41:41] INFO [trainer.py.train:144] Epoch 4 | Batch 158/178 | Timestep 870 | Loss 0.004577\n"
          ]
        },
        {
          "output_type": "stream",
          "name": "stderr",
          "text": [
            "INFO:comp9312.classify.trainer:Epoch 4 | Batch 168/178 | Timestep 880 | Loss 0.001681\n"
          ]
        },
        {
          "output_type": "stream",
          "name": "stdout",
          "text": [
            "[Mon, 19 Dec 2022 14:41:42] INFO [trainer.py.train:144] Epoch 4 | Batch 168/178 | Timestep 880 | Loss 0.001681\n"
          ]
        },
        {
          "output_type": "stream",
          "name": "stderr",
          "text": [
            "INFO:comp9312.classify.trainer:Epoch 4 | Batch 178/178 | Timestep 890 | Loss 0.001108\n"
          ]
        },
        {
          "output_type": "stream",
          "name": "stdout",
          "text": [
            "[Mon, 19 Dec 2022 14:41:43] INFO [trainer.py.train:144] Epoch 4 | Batch 178/178 | Timestep 890 | Loss 0.001108\n"
          ]
        },
        {
          "output_type": "stream",
          "name": "stderr",
          "text": [
            "INFO:comp9312.classify.trainer:** Evaluating on validation dataset **\n"
          ]
        },
        {
          "output_type": "stream",
          "name": "stdout",
          "text": [
            "[Mon, 19 Dec 2022 14:41:43] INFO [trainer.py.train:155] ** Evaluating on validation dataset **\n"
          ]
        },
        {
          "output_type": "stream",
          "name": "stderr",
          "text": [
            "INFO:comp9312.classify.trainer:\n",
            "              precision    recall  f1-score   support\n",
            "\n",
            "    Negative       0.79      0.71      0.75        42\n",
            "    Positive       0.81      0.86      0.84        59\n",
            "\n",
            "    accuracy                           0.80       101\n",
            "   macro avg       0.80      0.79      0.79       101\n",
            "weighted avg       0.80      0.80      0.80       101\n",
            "\n"
          ]
        },
        {
          "output_type": "stream",
          "name": "stdout",
          "text": [
            "[Mon, 19 Dec 2022 14:41:44] INFO [trainer.py.compute_metrics:94] \n",
            "              precision    recall  f1-score   support\n",
            "\n",
            "    Negative       0.79      0.71      0.75        42\n",
            "    Positive       0.81      0.86      0.84        59\n",
            "\n",
            "    accuracy                           0.80       101\n",
            "   macro avg       0.80      0.79      0.79       101\n",
            "weighted avg       0.80      0.80      0.80       101\n",
            "\n"
          ]
        },
        {
          "output_type": "stream",
          "name": "stderr",
          "text": [
            "INFO:comp9312.classify.trainer:Epoch 4 | Timestep 890 | Train Loss 0.042168 | Val Loss 0.910202 | F1 Micro 0.801980\n"
          ]
        },
        {
          "output_type": "stream",
          "name": "stdout",
          "text": [
            "[Mon, 19 Dec 2022 14:41:44] INFO [trainer.py.train:159] Epoch 4 | Timestep 890 | Train Loss 0.042168 | Val Loss 0.910202 | F1 Micro 0.801980\n"
          ]
        },
        {
          "output_type": "stream",
          "name": "stderr",
          "text": [
            "INFO:comp9312.classify.trainer:Epoch 5 | Batch 10/178 | Timestep 900 | Loss 0.002261\n"
          ]
        },
        {
          "output_type": "stream",
          "name": "stdout",
          "text": [
            "[Mon, 19 Dec 2022 14:41:45] INFO [trainer.py.train:144] Epoch 5 | Batch 10/178 | Timestep 900 | Loss 0.002261\n"
          ]
        },
        {
          "output_type": "stream",
          "name": "stderr",
          "text": [
            "INFO:comp9312.classify.trainer:Epoch 5 | Batch 20/178 | Timestep 910 | Loss 0.001570\n"
          ]
        },
        {
          "output_type": "stream",
          "name": "stdout",
          "text": [
            "[Mon, 19 Dec 2022 14:41:46] INFO [trainer.py.train:144] Epoch 5 | Batch 20/178 | Timestep 910 | Loss 0.001570\n"
          ]
        },
        {
          "output_type": "stream",
          "name": "stderr",
          "text": [
            "INFO:comp9312.classify.trainer:Epoch 5 | Batch 30/178 | Timestep 920 | Loss 0.020502\n"
          ]
        },
        {
          "output_type": "stream",
          "name": "stdout",
          "text": [
            "[Mon, 19 Dec 2022 14:41:47] INFO [trainer.py.train:144] Epoch 5 | Batch 30/178 | Timestep 920 | Loss 0.020502\n"
          ]
        },
        {
          "output_type": "stream",
          "name": "stderr",
          "text": [
            "INFO:comp9312.classify.trainer:Epoch 5 | Batch 40/178 | Timestep 930 | Loss 0.008746\n"
          ]
        },
        {
          "output_type": "stream",
          "name": "stdout",
          "text": [
            "[Mon, 19 Dec 2022 14:41:48] INFO [trainer.py.train:144] Epoch 5 | Batch 40/178 | Timestep 930 | Loss 0.008746\n"
          ]
        },
        {
          "output_type": "stream",
          "name": "stderr",
          "text": [
            "INFO:comp9312.classify.trainer:Epoch 5 | Batch 50/178 | Timestep 940 | Loss 0.000642\n"
          ]
        },
        {
          "output_type": "stream",
          "name": "stdout",
          "text": [
            "[Mon, 19 Dec 2022 14:41:49] INFO [trainer.py.train:144] Epoch 5 | Batch 50/178 | Timestep 940 | Loss 0.000642\n"
          ]
        },
        {
          "output_type": "stream",
          "name": "stderr",
          "text": [
            "INFO:comp9312.classify.trainer:Epoch 5 | Batch 60/178 | Timestep 950 | Loss 0.004616\n"
          ]
        },
        {
          "output_type": "stream",
          "name": "stdout",
          "text": [
            "[Mon, 19 Dec 2022 14:41:51] INFO [trainer.py.train:144] Epoch 5 | Batch 60/178 | Timestep 950 | Loss 0.004616\n"
          ]
        },
        {
          "output_type": "stream",
          "name": "stderr",
          "text": [
            "INFO:comp9312.classify.trainer:Epoch 5 | Batch 70/178 | Timestep 960 | Loss 0.001629\n"
          ]
        },
        {
          "output_type": "stream",
          "name": "stdout",
          "text": [
            "[Mon, 19 Dec 2022 14:41:52] INFO [trainer.py.train:144] Epoch 5 | Batch 70/178 | Timestep 960 | Loss 0.001629\n"
          ]
        },
        {
          "output_type": "stream",
          "name": "stderr",
          "text": [
            "INFO:comp9312.classify.trainer:Epoch 5 | Batch 80/178 | Timestep 970 | Loss 0.000775\n"
          ]
        },
        {
          "output_type": "stream",
          "name": "stdout",
          "text": [
            "[Mon, 19 Dec 2022 14:41:53] INFO [trainer.py.train:144] Epoch 5 | Batch 80/178 | Timestep 970 | Loss 0.000775\n"
          ]
        },
        {
          "output_type": "stream",
          "name": "stderr",
          "text": [
            "INFO:comp9312.classify.trainer:Epoch 5 | Batch 90/178 | Timestep 980 | Loss 0.001450\n"
          ]
        },
        {
          "output_type": "stream",
          "name": "stdout",
          "text": [
            "[Mon, 19 Dec 2022 14:41:54] INFO [trainer.py.train:144] Epoch 5 | Batch 90/178 | Timestep 980 | Loss 0.001450\n"
          ]
        },
        {
          "output_type": "stream",
          "name": "stderr",
          "text": [
            "INFO:comp9312.classify.trainer:Epoch 5 | Batch 100/178 | Timestep 990 | Loss 0.014716\n"
          ]
        },
        {
          "output_type": "stream",
          "name": "stdout",
          "text": [
            "[Mon, 19 Dec 2022 14:41:55] INFO [trainer.py.train:144] Epoch 5 | Batch 100/178 | Timestep 990 | Loss 0.014716\n"
          ]
        },
        {
          "output_type": "stream",
          "name": "stderr",
          "text": [
            "INFO:comp9312.classify.trainer:Epoch 5 | Batch 110/178 | Timestep 1000 | Loss 0.003500\n"
          ]
        },
        {
          "output_type": "stream",
          "name": "stdout",
          "text": [
            "[Mon, 19 Dec 2022 14:41:56] INFO [trainer.py.train:144] Epoch 5 | Batch 110/178 | Timestep 1000 | Loss 0.003500\n"
          ]
        },
        {
          "output_type": "stream",
          "name": "stderr",
          "text": [
            "INFO:comp9312.classify.trainer:Epoch 5 | Batch 120/178 | Timestep 1010 | Loss 0.003543\n"
          ]
        },
        {
          "output_type": "stream",
          "name": "stdout",
          "text": [
            "[Mon, 19 Dec 2022 14:41:57] INFO [trainer.py.train:144] Epoch 5 | Batch 120/178 | Timestep 1010 | Loss 0.003543\n"
          ]
        },
        {
          "output_type": "stream",
          "name": "stderr",
          "text": [
            "INFO:comp9312.classify.trainer:Epoch 5 | Batch 130/178 | Timestep 1020 | Loss 0.002049\n"
          ]
        },
        {
          "output_type": "stream",
          "name": "stdout",
          "text": [
            "[Mon, 19 Dec 2022 14:41:59] INFO [trainer.py.train:144] Epoch 5 | Batch 130/178 | Timestep 1020 | Loss 0.002049\n"
          ]
        },
        {
          "output_type": "stream",
          "name": "stderr",
          "text": [
            "INFO:comp9312.classify.trainer:Epoch 5 | Batch 140/178 | Timestep 1030 | Loss 0.001303\n"
          ]
        },
        {
          "output_type": "stream",
          "name": "stdout",
          "text": [
            "[Mon, 19 Dec 2022 14:42:00] INFO [trainer.py.train:144] Epoch 5 | Batch 140/178 | Timestep 1030 | Loss 0.001303\n"
          ]
        },
        {
          "output_type": "stream",
          "name": "stderr",
          "text": [
            "INFO:comp9312.classify.trainer:Epoch 5 | Batch 150/178 | Timestep 1040 | Loss 0.001751\n"
          ]
        },
        {
          "output_type": "stream",
          "name": "stdout",
          "text": [
            "[Mon, 19 Dec 2022 14:42:01] INFO [trainer.py.train:144] Epoch 5 | Batch 150/178 | Timestep 1040 | Loss 0.001751\n"
          ]
        },
        {
          "output_type": "stream",
          "name": "stderr",
          "text": [
            "INFO:comp9312.classify.trainer:Epoch 5 | Batch 160/178 | Timestep 1050 | Loss 0.221376\n"
          ]
        },
        {
          "output_type": "stream",
          "name": "stdout",
          "text": [
            "[Mon, 19 Dec 2022 14:42:02] INFO [trainer.py.train:144] Epoch 5 | Batch 160/178 | Timestep 1050 | Loss 0.221376\n"
          ]
        },
        {
          "output_type": "stream",
          "name": "stderr",
          "text": [
            "INFO:comp9312.classify.trainer:Epoch 5 | Batch 170/178 | Timestep 1060 | Loss 0.371870\n"
          ]
        },
        {
          "output_type": "stream",
          "name": "stdout",
          "text": [
            "[Mon, 19 Dec 2022 14:42:03] INFO [trainer.py.train:144] Epoch 5 | Batch 170/178 | Timestep 1060 | Loss 0.371870\n"
          ]
        },
        {
          "output_type": "stream",
          "name": "stderr",
          "text": [
            "INFO:comp9312.classify.trainer:** Evaluating on validation dataset **\n"
          ]
        },
        {
          "output_type": "stream",
          "name": "stdout",
          "text": [
            "[Mon, 19 Dec 2022 14:42:04] INFO [trainer.py.train:155] ** Evaluating on validation dataset **\n"
          ]
        },
        {
          "output_type": "stream",
          "name": "stderr",
          "text": [
            "INFO:comp9312.classify.trainer:\n",
            "              precision    recall  f1-score   support\n",
            "\n",
            "    Negative       0.86      0.60      0.70        42\n",
            "    Positive       0.76      0.93      0.84        59\n",
            "\n",
            "    accuracy                           0.79       101\n",
            "   macro avg       0.81      0.76      0.77       101\n",
            "weighted avg       0.80      0.79      0.78       101\n",
            "\n"
          ]
        },
        {
          "output_type": "stream",
          "name": "stdout",
          "text": [
            "[Mon, 19 Dec 2022 14:42:05] INFO [trainer.py.compute_metrics:94] \n",
            "              precision    recall  f1-score   support\n",
            "\n",
            "    Negative       0.86      0.60      0.70        42\n",
            "    Positive       0.76      0.93      0.84        59\n",
            "\n",
            "    accuracy                           0.79       101\n",
            "   macro avg       0.81      0.76      0.77       101\n",
            "weighted avg       0.80      0.79      0.78       101\n",
            "\n"
          ]
        },
        {
          "output_type": "stream",
          "name": "stderr",
          "text": [
            "INFO:comp9312.classify.trainer:Epoch 5 | Timestep 1068 | Train Loss 0.039432 | Val Loss 0.918503 | F1 Micro 0.792079\n"
          ]
        },
        {
          "output_type": "stream",
          "name": "stdout",
          "text": [
            "[Mon, 19 Dec 2022 14:42:05] INFO [trainer.py.train:159] Epoch 5 | Timestep 1068 | Train Loss 0.039432 | Val Loss 0.918503 | F1 Micro 0.792079\n"
          ]
        },
        {
          "output_type": "stream",
          "name": "stderr",
          "text": [
            "INFO:comp9312.classify.trainer:Early termination triggered\n"
          ]
        },
        {
          "output_type": "stream",
          "name": "stdout",
          "text": [
            "[Mon, 19 Dec 2022 14:42:05] INFO [trainer.py.train:189] Early termination triggered\n"
          ]
        }
      ]
    },
    {
      "cell_type": "code",
      "source": [
        "from comp9312.eval.eval import main"
      ],
      "metadata": {
        "id": "IinuG86yYdAc"
      },
      "execution_count": 13,
      "outputs": []
    },
    {
      "cell_type": "code",
      "source": [
        "args_dict = {\n",
        "    \"output_path\": \"/content/output/\",\n",
        "    \"eval_path\": \"/content/test3.csv\",\n",
        "    \"checkpoint_path\":\"/content/output/\",\n",
        "    \"seed\": 1,\n",
        "    \"max_epochs\": 10,\n",
        "    \"batch_size\": 8,\n",
        "    \"bert_model\": \"avichr/heBERT\",\n",
        "    \"num_workers\": 1,\n",
        "    \"gpus\": [0],\n",
        "    \"learning_rate\": 0.00001\n",
        "}\n",
        "args = argparse.Namespace()\n",
        "args.__dict__ = args_dict"
      ],
      "metadata": {
        "id": "kOT82AyWsuav"
      },
      "execution_count": 22,
      "outputs": []
    },
    {
      "cell_type": "code",
      "source": [
        "main(args)"
      ],
      "metadata": {
        "id": "2bokAayCU9Py",
        "outputId": "5df0f336-c44c-44b0-a6b2-889420ff25fe",
        "colab": {
          "base_uri": "https://localhost:8080/"
        }
      },
      "execution_count": 23,
      "outputs": [
        {
          "output_type": "stream",
          "name": "stderr",
          "text": [
            "Some weights of the model checkpoint at avichr/heBERT were not used when initializing BertModel: ['cls.predictions.decoder.bias', 'cls.predictions.decoder.weight', 'cls.predictions.transform.dense.bias', 'cls.predictions.transform.dense.weight', 'cls.predictions.bias', 'cls.predictions.transform.LayerNorm.weight', 'cls.predictions.transform.LayerNorm.bias']\n",
            "- This IS expected if you are initializing BertModel from the checkpoint of a model trained on another task or with another architecture (e.g. initializing a BertForSequenceClassification model from a BertForPreTraining model).\n",
            "- This IS NOT expected if you are initializing BertModel from the checkpoint of a model that you expect to be exactly identical (initializing a BertForSequenceClassification model from a BertForSequenceClassification model).\n",
            "Some weights of BertModel were not initialized from the model checkpoint at avichr/heBERT and are newly initialized: ['bert.pooler.dense.bias', 'bert.pooler.dense.weight']\n",
            "You should probably TRAIN this model on a down-stream task to be able to use it for predictions and inference.\n"
          ]
        },
        {
          "output_type": "stream",
          "name": "stdout",
          "text": [
            "INFO\tcomp9312.classify.trainer\tMon, 19 Dec 2022 14:57:57\t\n",
            "              precision    recall  f1-score   support\n",
            "\n",
            "    Negative       1.00      1.00      1.00         1\n",
            "\n",
            "    accuracy                           1.00         1\n",
            "   macro avg       1.00      1.00      1.00         1\n",
            "weighted avg       1.00      1.00      1.00         1\n",
            "\n"
          ]
        }
      ]
    }
  ]
}