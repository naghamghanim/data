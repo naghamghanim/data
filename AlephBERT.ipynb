{
  "nbformat": 4,
  "nbformat_minor": 0,
  "metadata": {
    "colab": {
      "name": "train_sentiment.ipynb",
      "provenance": [],
      "collapsed_sections": [],
      "include_colab_link": true
    },
    "kernelspec": {
      "name": "python3",
      "display_name": "Python 3"
    },
    "language_info": {
      "name": "python"
    },
    "accelerator": "GPU"
  },
  "cells": [
    {
      "cell_type": "markdown",
      "metadata": {
        "id": "view-in-github",
        "colab_type": "text"
      },
      "source": [
        "<a href=\"https://colab.research.google.com/github/naghamghanim/data/blob/main/AlephBERT.ipynb\" target=\"_parent\"><img src=\"https://colab.research.google.com/assets/colab-badge.svg\" alt=\"Open In Colab\"/></a>"
      ]
    },
    {
      "cell_type": "code",
      "source": [
        "# Verify that you have the GPU recognized \n",
        "!nvidia-smi"
      ],
      "metadata": {
        "id": "nQEoDjlMtCRG"
      },
      "execution_count": null,
      "outputs": []
    },
    {
      "cell_type": "markdown",
      "source": [
        "# Git clone COMP9312 repo"
      ],
      "metadata": {
        "id": "Lt3wfx8tbzRk"
      }
    },
    {
      "cell_type": "code",
      "source": [
        "!rm -rf /content/COMP9312\n",
        "!git clone https://github.com/naghamghanim/data.git"
      ],
      "metadata": {
        "id": "CSqBYb05SgZI"
      },
      "execution_count": null,
      "outputs": []
    },
    {
      "cell_type": "markdown",
      "source": [
        "# Install dependencies"
      ],
      "metadata": {
        "id": "s3eKx0pTcCA7"
      }
    },
    {
      "cell_type": "code",
      "source": [
        "!pip install transformers"
      ],
      "metadata": {
        "id": "8Gw8kbhjXHGL"
      },
      "execution_count": null,
      "outputs": []
    },
    {
      "cell_type": "markdown",
      "source": [
        "# Model training"
      ],
      "metadata": {
        "id": "02rBEWrjcMLt"
      }
    },
    {
      "cell_type": "code",
      "source": [
        "# Make output directory\n",
        "!mkdir /content/output/"
      ],
      "metadata": {
        "id": "6QHS5JcQsoHN"
      },
      "execution_count": null,
      "outputs": []
    },
    {
      "cell_type": "code",
      "source": [
        "import sys\n",
        "import argparse\n",
        "sys.path.append('/content/data/')"
      ],
      "metadata": {
        "id": "5lzJLbXzSmvu"
      },
      "execution_count": null,
      "outputs": []
    },
    {
      "cell_type": "code",
      "source": [
        "from comp9312_AlephBERT.classify.train import main"
      ],
      "metadata": {
        "id": "yqGx1LLfV4c5"
      },
      "execution_count": null,
      "outputs": []
    },
    {
      "cell_type": "code",
      "source": [
        "args_dict = {\n",
        "    \"output_path\": \"/content/output/\",\n",
        "    \"train_path\": \"/content/data/without_cleaning/ours2000-shuffled.csv\",\n",
        "    \"test_path\": \"/content/data/without_cleaning/M4/test.csv\",\n",
        "    \"val_path\": \"/content/data/without_cleaning/M4/val.csv\",\n",
        "    \"seed\": 1,\n",
        "    \"max_epochs\": 10,\n",
        "    \"batch_size\": 8,\n",
        "    \"bert_model\": \"onlplab/alephbert-base\",\n",
        "    \"num_workers\": 1,\n",
        "    \"gpus\": [0],\n",
        "    \"learning_rate\": 0.00001\n",
        "}\n",
        "args = argparse.Namespace()\n",
        "args.__dict__ = args_dict"
      ],
      "metadata": {
        "id": "AwmPOruvWSS2"
      },
      "execution_count": null,
      "outputs": []
    },
    {
      "cell_type": "code",
      "source": [
        "main(args)"
      ],
      "metadata": {
        "id": "JJV8V5GuYKRS"
      },
      "execution_count": null,
      "outputs": []
    },
    {
      "cell_type": "code",
      "source": [],
      "metadata": {
        "id": "kOT82AyWsuav"
      },
      "execution_count": null,
      "outputs": []
    }
  ]
}