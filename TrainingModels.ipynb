{
  "cells": [
    {
      "cell_type": "markdown",
      "metadata": {
        "id": "view-in-github",
        "colab_type": "text"
      },
      "source": [
        "<a href=\"https://colab.research.google.com/github/naghamghanim/data/blob/main/TrainingModels.ipynb\" target=\"_parent\"><img src=\"https://colab.research.google.com/assets/colab-badge.svg\" alt=\"Open In Colab\"/></a>"
      ]
    },
    {
      "cell_type": "code",
      "source": [
        "!rm -rf /content/data\n",
        "!git clone https://github.com/naghamghanim/data.git"
      ],
      "metadata": {
        "id": "9vJ5b-AbNrYn"
      },
      "execution_count": null,
      "outputs": []
    },
    {
      "cell_type": "code",
      "source": [
        "import sys\n",
        "import argparse\n",
        "sys.path.append('/content/data/')"
      ],
      "metadata": {
        "id": "uB1wmQjyOZJ5"
      },
      "execution_count": null,
      "outputs": []
    },
    {
      "cell_type": "code",
      "source": [
        "!mkdir /content/output/"
      ],
      "metadata": {
        "id": "f9OAjRO0PA-K"
      },
      "execution_count": null,
      "outputs": []
    },
    {
      "cell_type": "code",
      "source": [
        "#shufflying data\n",
        "\n",
        "import pandas as pd\n",
        "from google.colab import data_table\n",
        "\n",
        "df = pd.read_csv('/content/data/models/M1/DatasetM1.csv')\n",
        "df.sample(frac=1).reset_index(drop=True)\n",
        "\n",
        "df = pd.DataFrame(df, columns = ['text', 'label'])\n",
        "data_table.DataTable(df.sample(frac=1).reset_index(drop=True),include_index=False, num_rows_per_page=10)\n"
      ],
      "metadata": {
        "id": "OdUAUjW_N0wx"
      },
      "execution_count": null,
      "outputs": []
    },
    {
      "cell_type": "code",
      "source": [
        "df.to_csv(\"/content/data/models/M1/shuffledData.csv\", sep=',', index=False)"
      ],
      "metadata": {
        "id": "e0R5Yv83QJyy"
      },
      "execution_count": null,
      "outputs": []
    },
    {
      "cell_type": "code",
      "source": [
        "#cleaning data from rows val dataset\n",
        "\n",
        "import pandas as pd\n",
        "import numpy as np\n",
        "from google.colab import data_table\n",
        "import re\n",
        "\n",
        "#here read val file\n",
        "df  = pd.read_csv('/content/data/models/M1/shuffledData.csv') \n",
        "\n",
        "\n",
        "df['text'] = df['text'].replace('[0-9]', '', regex=True)\n",
        "df['text']= df['text'].replace('_', '', regex=True)\n",
        "df['text']= df['text'].replace('/', '', regex=True)\n",
        "df['text'] = df['text'].replace('@', '', regex=True)\n",
        "df['text'] = df['text'].replace(r'\\s*[A-Za-z]+\\b', '', regex=True)\n",
        "\n",
        "df = pd.DataFrame(df, columns = ['text', 'label'])\n",
        "df.to_csv('/content/data/models/M1/shuffledCleanedData.csv', index=False)\n",
        "\n",
        "\n",
        "data_table.DataTable(df,include_index=False, num_rows_per_page=10)\n"
      ],
      "metadata": {
        "id": "_szOb5B2XEr6"
      },
      "execution_count": null,
      "outputs": []
    },
    {
      "cell_type": "code",
      "source": [
        "import pandas as pd\n",
        "import numpy as np\n",
        "from google.colab import data_table\n",
        "#here shuffle the final data\n",
        "#df = pd.read_csv('/content/data/finalData.csv')\n",
        "#df.sample(frac=1).reset_index(drop=True)\n",
        "\n",
        "#data_table.DataTable(df.sample(frac=1).reset_index(drop=True),include_index=False, num_rows_per_page=10)\n",
        "#df.to_csv(\"/content/output/shuffledData.csv\", sep='\\t')\n",
        "\n",
        "\n",
        "#splitting data into train, test and val datasets\n",
        "iris = pd.read_csv('/content/data/models/M1/shuffledCleanedData.csv') \n",
        "\n",
        "# one line split only into two datasets train and test without validation dataset\n",
        "#train, validation, test = np.split(iris.sample(frac=1), [int(.7*len(iris)),int(.6*len(iris))])\n",
        "\n",
        "# one line split only into two datasets train 70% and test 20% validation 10% dataset\n",
        "train, val, test = np.split(iris.sample(frac=1), [int(.7*len(iris)),int(.75*len(iris))])\n",
        "\n",
        "data_table.DataTable(test,include_index=False, num_rows_per_page=10)\n",
        "\n",
        "\n",
        "#data_table.DataTable(val,include_index=False, num_rows_per_page=10)\n",
        "\n",
        "df = pd.DataFrame(train, columns = ['text', 'label'])\n",
        "df.to_csv('/content/data/models/M1/train.csv', index=False)\n",
        "\n",
        "df = pd.DataFrame(test, columns = ['text', 'label'])\n",
        "df.to_csv('/content/data/models/M1/test.csv', index=False)\n",
        "\n",
        "df = pd.DataFrame(val, columns = ['text', 'label'])\n",
        "df.to_csv('/content/data/models/M1/val.csv', index=False)\n",
        "\n",
        "\n"
      ],
      "metadata": {
        "id": "rpVCSFrGXlKh"
      },
      "execution_count": null,
      "outputs": []
    }
  ],
  "metadata": {
    "colab": {
      "collapsed_sections": [],
      "name": "Welcome To Colaboratory",
      "provenance": [],
      "include_colab_link": true
    },
    "kernelspec": {
      "display_name": "Python 3",
      "name": "python3"
    }
  },
  "nbformat": 4,
  "nbformat_minor": 0
}