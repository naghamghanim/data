{
  "cells": [
    {
      "cell_type": "markdown",
      "metadata": {
        "id": "view-in-github",
        "colab_type": "text"
      },
      "source": [
        "<a href=\"https://colab.research.google.com/github/naghamghanim/data/blob/main/modificationCodeFinal.ipynb\" target=\"_parent\"><img src=\"https://colab.research.google.com/assets/colab-badge.svg\" alt=\"Open In Colab\"/></a>"
      ]
    },
    {
      "cell_type": "code",
      "source": [
        "!rm -rf /content/data\n",
        "!git clone https://github.com/naghamghanim/data.git"
      ],
      "metadata": {
        "id": "9vJ5b-AbNrYn",
        "outputId": "bc3eeabc-b264-4fcd-bcd5-d351d937cf00",
        "colab": {
          "base_uri": "https://localhost:8080/"
        }
      },
      "execution_count": 1,
      "outputs": [
        {
          "output_type": "stream",
          "name": "stdout",
          "text": [
            "Cloning into 'data'...\n",
            "remote: Enumerating objects: 673, done.\u001b[K\n",
            "remote: Counting objects: 100% (242/242), done.\u001b[K\n",
            "remote: Compressing objects: 100% (196/196), done.\u001b[K\n",
            "remote: Total 673 (delta 135), reused 141 (delta 40), pack-reused 431\u001b[K\n",
            "Receiving objects: 100% (673/673), 13.14 MiB | 18.07 MiB/s, done.\n",
            "Resolving deltas: 100% (389/389), done.\n"
          ]
        }
      ]
    },
    {
      "cell_type": "code",
      "source": [
        "import sys\n",
        "import argparse\n",
        "sys.path.append('/content/data/')"
      ],
      "metadata": {
        "id": "uB1wmQjyOZJ5"
      },
      "execution_count": 2,
      "outputs": []
    },
    {
      "cell_type": "code",
      "source": [
        "!mkdir /content/output/"
      ],
      "metadata": {
        "id": "f9OAjRO0PA-K"
      },
      "execution_count": 3,
      "outputs": []
    },
    {
      "cell_type": "code",
      "source": [
        "#shufflying data\n",
        "\n",
        "import pandas as pd\n",
        "from google.colab import data_table\n",
        "\n",
        "df = pd.read_csv('/content/data/models3/M1/ours2000.csv',encoding='utf8')\n",
        "df.sample(frac=1).reset_index(drop=True)\n",
        "\n",
        "df = pd.DataFrame(df, columns = ['text', 'label'])\n",
        "data_table.DataTable(df.sample(frac=1).reset_index(drop=True),include_index=False, num_rows_per_page=10)\n"
      ],
      "metadata": {
        "id": "OdUAUjW_N0wx"
      },
      "execution_count": null,
      "outputs": []
    },
    {
      "cell_type": "code",
      "source": [
        "df.to_csv(\"/content/data/models3/M1/shuffledData.csv\", sep=',', index=False,encoding='utf8')"
      ],
      "metadata": {
        "id": "e0R5Yv83QJyy"
      },
      "execution_count": null,
      "outputs": []
    },
    {
      "cell_type": "code",
      "source": [
        "#cleaning data from rows val dataset\n",
        "\n",
        "import pandas as pd\n",
        "import numpy as np\n",
        "from google.colab import data_table\n",
        "import re\n",
        "\n",
        "#here read val file\n",
        "df  = pd.read_csv('/content/data/models3/M1/shuffledData.csv',encoding='utf8') \n",
        "\n",
        "\n",
        "df['text'] = df['text'].replace('[0-9]', '', regex=True)\n",
        "df['text']= df['text'].replace('_', '', regex=True)\n",
        "df['text']= df['text'].replace('/', '', regex=True)\n",
        "df['text'] = df['text'].replace('@', '', regex=True)\n",
        "df['text'] = df['text'].replace(r'\\s*[A-Za-z]+\\b', '', regex=True)\n",
        "\n",
        "df = pd.DataFrame(df, columns = ['text', 'label'])\n",
        "df.to_csv('/content/data/models3/M1/ours2000-cleaned.csv', index=False,encoding='utf8')\n",
        "\n",
        "\n",
        "data_table.DataTable(df,include_index=False, num_rows_per_page=10)\n"
      ],
      "metadata": {
        "id": "_szOb5B2XEr6"
      },
      "execution_count": null,
      "outputs": []
    },
    {
      "cell_type": "code",
      "source": [
        "#select random lines from csv file\n",
        "import pandas as pd\n",
        "import numpy as np\n",
        "from google.colab import data_table\n",
        "\n",
        "\n",
        "df1  = pd.read_csv('/content/data/models3/their1000.csv',encoding='utf8') \n",
        "\n",
        "#split into 3 datasets\n",
        "#train, val, test = np.split(df1.sample(frac=1), [int(0.7*len(df1)),int(.75*len(df1))])\n",
        "\n",
        "\n",
        "# select only 1000\n",
        "train, val, test = np.split(df1.sample(frac=1), [int(0.495*len(df1)),int(.75*len(df1))])\n",
        "\n",
        "\n",
        "#here we took 1500 train data\n",
        "df1 = pd.DataFrame(train, columns = ['text', 'label'])\n",
        "data_table.DataTable(train,include_index=False, num_rows_per_page=10)\n",
        "\n",
        "#df1.to_csv('/content/data/models2/M2/their1000.csv', index=False,encoding='utf8')\n",
        "\n",
        "\n",
        "\n",
        "#1000 from here\n",
        "#df2  = pd.read_csv('/content/data/models/TheirData2000.csv',encoding='utf8') \n",
        "#df2=df2.dropna()\n",
        "\n",
        "#train, val, test = np.split(df2.sample(frac=1), [int(.7*len(df2)),int(.75*len(df2))])\n",
        "#df2 = pd.DataFrame(train, columns = ['text', 'label'])\n",
        "#df2.to_csv('/content/data/models/M7/TheirData2000.csv', index=False,encoding='utf8')\n",
        "\n",
        "\n",
        "#data_table.DataTable(train,include_index=False, num_rows_per_page=10)\n"
      ],
      "metadata": {
        "id": "XDf8IQdJz8oS"
      },
      "execution_count": null,
      "outputs": []
    },
    {
      "cell_type": "code",
      "source": [
        "df = pd.DataFrame(train, columns = ['text', 'label'])\n",
        "df.to_csv('/content/data/models3/M1/train.csv', index=False,encoding='utf8')\n",
        "\n",
        "df = pd.DataFrame(test, columns = ['text', 'label'])\n",
        "df.to_csv('/content/data/models3/M1/test.csv', index=False,encoding='utf8')\n",
        "\n",
        "df = pd.DataFrame(val, columns = ['text', 'label'])\n",
        "df.to_csv('/content/data/models3/M1/val.csv', index=False,encoding='utf8')"
      ],
      "metadata": {
        "id": "evau_tKPVgfV"
      },
      "execution_count": null,
      "outputs": []
    },
    {
      "cell_type": "code",
      "source": [
        "#merge 2 csv files\n",
        "\n",
        "import pandas as pd\n",
        "import numpy as np\n",
        "from google.colab import data_table\n",
        "\n",
        "df1  = pd.read_csv('/content/data/models2/M3/their2000.csv',encoding='utf8') \n",
        "\n",
        "#here added to this file\n",
        "df1.to_csv('/content/data/models2/M3/ours1400.csv', mode='a', index=False, header=False)\n",
        "\n"
      ],
      "metadata": {
        "id": "lex6ssi-UhCK"
      },
      "execution_count": null,
      "outputs": []
    },
    {
      "cell_type": "code",
      "source": [
        "#check for duplicate\n",
        "import pandas as pd\n",
        "import numpy as np\n",
        "from google.colab import data_table\n",
        "\n",
        "df2  = pd.read_csv('/content/data/models/M7/train.csv',encoding='utf8') \n",
        "\n",
        "bool_series = df2.duplicated(keep='last')\n",
        "\n",
        "print(bool_series)\n",
        "\n"
      ],
      "metadata": {
        "id": "wpl7lKlReV8v"
      },
      "execution_count": null,
      "outputs": []
    },
    {
      "cell_type": "code",
      "source": [
        "import pandas as pd\n",
        "import numpy as np\n",
        "from google.colab import data_table\n",
        "#here shuffle the final data\n",
        "#df = pd.read_csv('/content/data/finalData.csv')\n",
        "#df.sample(frac=1).reset_index(drop=True)\n",
        "\n",
        "#data_table.DataTable(df.sample(frac=1).reset_index(drop=True),include_index=False, num_rows_per_page=10)\n",
        "#df.to_csv(\"/content/output/shuffledData.csv\", sep='\\t')\n",
        "\n",
        "\n",
        "#splitting data into train, test and val datasets\n",
        "iris = pd.read_csv('/content/data/models/M4/Dataset-test.csv') \n",
        "\n",
        "# one line split only into two datasets train and test without validation dataset\n",
        "#train, validation, test = np.split(iris.sample(frac=1), [int(.7*len(iris)),int(.6*len(iris))])\n",
        "\n",
        "# one line split only into two datasets train 70% and test 20% validation 10% dataset\n",
        "train, val, test = np.split(iris.sample(frac=1), [int(.7*len(iris)),int(.75*len(iris))])\n",
        "\n",
        "data_table.DataTable(iris,include_index=False, num_rows_per_page=10)\n",
        "\n",
        "\n",
        "df = pd.DataFrame(train, columns = ['text', 'label'])\n",
        "df.to_csv('/content/data/models/M4/train.csv', index=False)\n",
        "\n",
        "df = pd.DataFrame(test, columns = ['text', 'label'])\n",
        "df.to_csv('/content/data/models/M4/test.csv', index=False)\n",
        "\n",
        "df = pd.DataFrame(val, columns = ['text', 'label'])\n",
        "df.to_csv('/content/data/models/M4/val.csv', index=False)\n",
        "\n",
        "\n"
      ],
      "metadata": {
        "id": "rpVCSFrGXlKh"
      },
      "execution_count": null,
      "outputs": []
    },
    {
      "cell_type": "code",
      "source": [
        "# read number of rows from csv file and append into csv file\n",
        "\n",
        "import itertools\n",
        "import pandas as pd\n",
        "import numpy as np\n",
        "from google.colab import data_table\n",
        "\n",
        "#read dataset from their paper\n",
        "data = pd.read_csv('/content/data/models/Dataset.csv',nrows=2000)\n",
        "\n",
        "data_table.DataTable(data,include_index=False, num_rows_per_page=10)\n",
        "\n",
        "df = pd.DataFrame(data, columns = ['text', 'label'])\n",
        "df.to_csv('/content/data/models/M3/2000rows.csv', index=False)\n",
        "\n",
        "\n"
      ],
      "metadata": {
        "id": "XlLTgAKxfisO"
      },
      "execution_count": null,
      "outputs": []
    },
    {
      "cell_type": "code",
      "source": [
        "import pandas as pd\n",
        "import numpy as np\n",
        "from google.colab import data_table\n",
        "\n",
        "#merge 2 csv files\n",
        "data1=pd.read_csv('/content/data/models/M1/train.csv')\n",
        "data2=pd.read_csv('/content/data/models/M3/2000rows.csv')\n",
        "\n",
        "df1 = pd.DataFrame(data1, columns = ['text', 'label'])\n",
        "df2 = pd.DataFrame(data1, columns = ['text', 'label'])\n",
        "#out = df2.append(df1)\n",
        "\n",
        "out=pd.merge(df1, df2)\n",
        "\n",
        "df = pd.DataFrame(out, columns = ['text', 'label'])\n",
        "#df.to_csv('/content/data/models/M3/train.csv', index=False)\n",
        "data_table.DataTable(out,include_index=False, num_rows_per_page=10)\n",
        "\n",
        "\n",
        "#with open('C:/JIRA Excel File/result.csv', 'w', encoding='utf-8') as f:\n",
        " #   out.to_csv(f, index=False)"
      ],
      "metadata": {
        "id": "Tou1ZR0wpWSb"
      },
      "execution_count": null,
      "outputs": []
    }
  ],
  "metadata": {
    "colab": {
      "collapsed_sections": [],
      "name": "Welcome To Colaboratory",
      "provenance": [],
      "background_execution": "on",
      "include_colab_link": true
    },
    "kernelspec": {
      "display_name": "Python 3",
      "name": "python3"
    },
    "gpuClass": "standard"
  },
  "nbformat": 4,
  "nbformat_minor": 0
}