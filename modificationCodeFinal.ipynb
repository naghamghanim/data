{
  "cells": [
    {
      "cell_type": "markdown",
      "metadata": {
        "id": "view-in-github",
        "colab_type": "text"
      },
      "source": [
        "<a href=\"https://colab.research.google.com/github/naghamghanim/data/blob/main/modificationCodeFinal.ipynb\" target=\"_parent\"><img src=\"https://colab.research.google.com/assets/colab-badge.svg\" alt=\"Open In Colab\"/></a>"
      ]
    },
    {
      "cell_type": "code",
      "source": [
        "!rm -rf /content/data\n",
        "!git clone https://github.com/naghamghanim/data.git"
      ],
      "metadata": {
        "id": "9vJ5b-AbNrYn",
        "outputId": "98f8699a-73dc-4d20-9777-5e6d78498c13",
        "colab": {
          "base_uri": "https://localhost:8080/"
        }
      },
      "execution_count": 3,
      "outputs": [
        {
          "output_type": "stream",
          "name": "stdout",
          "text": [
            "Cloning into 'data'...\n",
            "remote: Enumerating objects: 987, done.\u001b[K\n",
            "remote: Counting objects: 100% (60/60), done.\u001b[K\n",
            "remote: Compressing objects: 100% (45/45), done.\u001b[K\n",
            "remote: Total 987 (delta 32), reused 39 (delta 14), pack-reused 927\u001b[K\n",
            "Receiving objects: 100% (987/987), 58.14 MiB | 19.92 MiB/s, done.\n",
            "Resolving deltas: 100% (596/596), done.\n"
          ]
        }
      ]
    },
    {
      "cell_type": "code",
      "source": [
        "import sys\n",
        "import argparse\n",
        "sys.path.append('/content/data/')"
      ],
      "metadata": {
        "id": "uB1wmQjyOZJ5"
      },
      "execution_count": null,
      "outputs": []
    },
    {
      "cell_type": "code",
      "source": [
        "!mkdir /content/output/"
      ],
      "metadata": {
        "id": "f9OAjRO0PA-K"
      },
      "execution_count": null,
      "outputs": []
    },
    {
      "cell_type": "code",
      "source": [
        "# Select range of rows from csv file\n",
        "import pandas as pd\n",
        "import itertools\n",
        "from google.colab import data_table\n",
        "\n",
        "\n",
        "df = pd.read_csv('/content/data/OurData.csv',encoding='utf8')\n",
        "\n",
        "df1 = pd.DataFrame(df, columns = [ 'TweetText','NOT'])\n",
        "data_table.DataTable(df1.sample(frac=1).reset_index(drop=True),include_index=False, num_rows_per_page=10)\n",
        "\n",
        "#here select only not hate\n",
        "df2=df1.loc[df1['NOT'] == \"NOT\"]\n",
        "\n",
        "#save not hate records\n",
        "df2.to_csv(\"/content/data/NotHate.csv\", sep=',', index=False,encoding='utf8')\n",
        "\n",
        "df3 = pd.read_csv('/content/data/NotHate.csv',encoding='utf8')\n",
        "\n",
        "n = 1255\n",
        "df4=df3.iloc[1:n]\n",
        "\n",
        "df4['NOT'] = \"Positive\"\n",
        "\n",
        "df4.rename(columns = {'TweetText':'text'}, inplace = True)\n",
        "df4.rename(columns = {'NOT':'label'}, inplace = True)\n",
        "\n",
        "\n",
        "data_table.DataTable(df4.sample(frac=1).reset_index(drop=True),include_index=False, num_rows_per_page=10)\n",
        "\n",
        "df4.to_csv(\"/content/data/ours2000-original.csv\", sep=',', index=False,encoding='utf8')\n",
        "\n"
      ],
      "metadata": {
        "id": "33PRnIaL6BRw"
      },
      "execution_count": null,
      "outputs": []
    },
    {
      "cell_type": "code",
      "source": [
        "#select hate records\n",
        "\n",
        "df1 = pd.DataFrame(df, columns = ['TweetText', 'NOT'])\n",
        "data_table.DataTable(df1.sample(frac=1).reset_index(drop=True),include_index=False, num_rows_per_page=10)\n",
        "op = df1.loc[(df1['NOT'] != \"NOT\") & (df1['NOT'] != \"\") & (df1['NOT'] != \"Violence\") &  (df1['NOT'] != \"violence\")]\n",
        "op2 = op[op.NOT.notnull()]\n",
        "\n",
        "op2['NOT'] = \"Negative\"\n",
        "\n",
        "op2.rename(columns = {'TweetText':'text'}, inplace = True)\n",
        "op2.rename(columns = {'NOT':'label'}, inplace = True)\n",
        "\n",
        "data_table.DataTable(op2.sample(frac=1).reset_index(drop=True),include_index=False, num_rows_per_page=10)\n",
        "\n",
        "op2.to_csv(\"/content/data/Hate.csv\", sep=',', index=False,encoding='utf8')\n"
      ],
      "metadata": {
        "id": "6IQgOcy7XxDU"
      },
      "execution_count": null,
      "outputs": []
    },
    {
      "cell_type": "code",
      "source": [
        "# merge ours 2000\n",
        "\n",
        "import pandas as pd\n",
        "import numpy as np\n",
        "from google.colab import data_table\n",
        "\n",
        "df1  = pd.read_csv('/content/data/Hate.csv',encoding='utf8') \n",
        "\n",
        "#here added to this file\n",
        "df1.to_csv('/content/data/ours2000-original.csv', mode='a', index=False, header=False,encoding='utf8')\n",
        "data_table.DataTable(df1.sample(frac=1).reset_index(drop=True),include_index=False, num_rows_per_page=10)\n",
        "\n"
      ],
      "metadata": {
        "id": "8eWQMDvNQPD6"
      },
      "execution_count": null,
      "outputs": []
    },
    {
      "cell_type": "code",
      "source": [
        "##shufflying data\n",
        "\n",
        "import pandas as pd\n",
        "from google.colab import data_table\n",
        "\n",
        "df = pd.read_csv('/content/data/ours2000-original.csv',encoding='utf8')\n",
        "df2=df.sample(frac=1).reset_index(drop=True)\n",
        "\n",
        "df = pd.DataFrame(df, columns = ['text', 'label'])\n",
        "data_table.DataTable(df.sample(frac=1).reset_index(drop=True),include_index=False, num_rows_per_page=10)\n"
      ],
      "metadata": {
        "id": "OdUAUjW_N0wx"
      },
      "execution_count": null,
      "outputs": []
    },
    {
      "cell_type": "code",
      "source": [
        "df2.to_csv(\"/content/data/models4/ours2000.csv\", sep=',', index=False,encoding='utf8')"
      ],
      "metadata": {
        "id": "e0R5Yv83QJyy"
      },
      "execution_count": null,
      "outputs": []
    },
    {
      "cell_type": "code",
      "source": [
        "#cleaning data from rows val dataset\n",
        "\n",
        "import pandas as pd\n",
        "import numpy as np\n",
        "from google.colab import data_table\n",
        "import re\n",
        "\n",
        "#here read val file\n",
        "df  = pd.read_csv('/content/data/models4/ours2000.csv',encoding='utf8') \n",
        "\n",
        "\n",
        "df['text'] = df['text'].replace('[0-9]', '', regex=True)\n",
        "df['text']= df['text'].replace('_', '', regex=True)\n",
        "df['text']= df['text'].replace('/', '', regex=True)\n",
        "df['text'] = df['text'].replace('@', '', regex=True)\n",
        "df['text'] = df['text'].replace(r'\\s*[A-Za-z]+\\b', '', regex=True)\n",
        "\n",
        "df = pd.DataFrame(df, columns = ['text', 'label'])\n",
        "df.to_csv('/content/data/models4/ours2000-cleaned.csv', index=False,encoding='utf8')\n",
        "\n",
        "\n",
        "data_table.DataTable(df,include_index=False, num_rows_per_page=10)\n"
      ],
      "metadata": {
        "id": "_szOb5B2XEr6"
      },
      "execution_count": null,
      "outputs": []
    },
    {
      "cell_type": "code",
      "source": [
        "#select random lines from csv file\n",
        "import pandas as pd\n",
        "import numpy as np\n",
        "from google.colab import data_table\n",
        "\n",
        "\n",
        "df1  = pd.read_csv('/content/data/models4/ours2000-cleaned.csv',encoding='utf8') \n",
        "\n",
        "#split into 3 datasets\n",
        "#train, val, test = np.split(df1.sample(frac=1), [int(0.7*len(df1)),int(.75*len(df1))])\n",
        "\n",
        "\n",
        "# select only 1000\n",
        "train, val, test = np.split(df1.sample(frac=1), [int(0.7*len(df1)),int(.75*len(df1))])\n",
        "\n",
        "\n",
        "#here we took 1500 train data\n",
        "df1 = pd.DataFrame(val, columns = ['text', 'label'])\n",
        "data_table.DataTable(val,include_index=False, num_rows_per_page=10)\n",
        "\n",
        "#df1.to_csv('/content/data/models2/M2/their1000.csv', index=False,encoding='utf8')\n",
        "\n",
        "\n",
        "\n",
        "#1000 from here\n",
        "#df2  = pd.read_csv('/content/data/models/TheirData2000.csv',encoding='utf8') \n",
        "#df2=df2.dropna()\n",
        "\n",
        "#train, val, test = np.split(df2.sample(frac=1), [int(.7*len(df2)),int(.75*len(df2))])\n",
        "#df2 = pd.DataFrame(train, columns = ['text', 'label'])\n",
        "#df2.to_csv('/content/data/models/M7/TheirData2000.csv', index=False,encoding='utf8')\n",
        "\n",
        "\n",
        "#data_table.DataTable(train,include_index=False, num_rows_per_page=10)\n"
      ],
      "metadata": {
        "id": "XDf8IQdJz8oS"
      },
      "execution_count": null,
      "outputs": []
    },
    {
      "cell_type": "code",
      "source": [
        "df1 = pd.DataFrame(train, columns = ['text', 'label'])\n",
        "df1.to_csv('/content/data/models4/M1/train.csv', index=False,encoding='utf8')\n",
        "\n",
        "df1 = pd.DataFrame(test, columns = ['text', 'label'])\n",
        "df1.to_csv('/content/data/models4/M1/test.csv', index=False,encoding='utf8')\n",
        "\n",
        "df1 = pd.DataFrame(val, columns = ['text', 'label'])\n",
        "df1.to_csv('/content/data/models4/M1/val.csv', index=False,encoding='utf8')"
      ],
      "metadata": {
        "id": "evau_tKPVgfV"
      },
      "execution_count": null,
      "outputs": []
    },
    {
      "cell_type": "code",
      "source": [
        "#merge 2 csv files\n",
        "\n",
        "import pandas as pd\n",
        "import numpy as np\n",
        "from google.colab import data_table\n",
        "\n",
        "df1  = pd.read_csv('/content/data/models4/their2000.csv',encoding='utf8') \n",
        "\n",
        "#here added to this file\n",
        "df1.to_csv('/content/data/models4/M3/train.csv', mode='a', index=False, header=False)\n",
        "\n"
      ],
      "metadata": {
        "id": "lex6ssi-UhCK"
      },
      "execution_count": 2,
      "outputs": []
    },
    {
      "cell_type": "code",
      "source": [
        "#counitng number of occurences in specific column\n",
        "\n",
        "df  = pd.read_csv('/content/data/OurData.csv',encoding='utf8') \n",
        "df = pd.DataFrame(df, columns = ['UserName'])\n",
        "data_table.DataTable(df,include_index=False, num_rows_per_page=10)\n",
        "\n",
        "df['UserName'].value_counts()\n",
        "\n"
      ],
      "metadata": {
        "id": "pPrg-JVqzkK1",
        "outputId": "902c369d-c199-405b-b0e9-17fae3875705",
        "colab": {
          "base_uri": "https://localhost:8080/"
        }
      },
      "execution_count": 26,
      "outputs": [
        {
          "output_type": "execute_result",
          "data": {
            "text/plain": [
              " ParisTelaviv75      72\n",
              " Eizak10             69\n",
              " news_addict_app     64\n",
              " flika_limilki       53\n",
              " antoineeliaroni     52\n",
              "                     ..\n",
              " TzRadPt              1\n",
              " tubiornot2B          1\n",
              " JO4767               1\n",
              " ariel_api            1\n",
              " Ohadc46              1\n",
              "Name: UserName, Length: 7146, dtype: int64"
            ]
          },
          "metadata": {},
          "execution_count": 26
        }
      ]
    },
    {
      "cell_type": "code",
      "source": [
        "# find the longest sentence in TweetText\n",
        "\n",
        "df  = pd.read_csv('/content/data/OurData.csv',encoding='utf8') \n",
        "df = pd.DataFrame(df, columns = ['TweetText'])\n",
        "data_table.DataTable(df,include_index=False, num_rows_per_page=10)\n",
        "\n",
        "\n",
        "df['TweetText'].str.len().max()\n",
        "\n",
        "\n"
      ],
      "metadata": {
        "id": "V5g1W07f9qOF",
        "outputId": "26e743c9-e4fb-4334-ac0e-ced9e1861a13",
        "colab": {
          "base_uri": "https://localhost:8080/"
        }
      },
      "execution_count": 32,
      "outputs": [
        {
          "output_type": "execute_result",
          "data": {
            "text/plain": [
              "913.0"
            ]
          },
          "metadata": {},
          "execution_count": 32
        }
      ]
    },
    {
      "cell_type": "code",
      "source": [
        "#check for duplicate\n",
        "import pandas as pd\n",
        "import numpy as np\n",
        "from google.colab import data_table\n",
        "\n",
        "df2  = pd.read_csv('/content/data/models/M7/train.csv',encoding='utf8') \n",
        "\n",
        "bool_series = df2.duplicated(keep='last')\n",
        "\n",
        "print(bool_series)\n",
        "\n"
      ],
      "metadata": {
        "id": "wpl7lKlReV8v"
      },
      "execution_count": null,
      "outputs": []
    },
    {
      "cell_type": "code",
      "source": [
        "import pandas as pd\n",
        "import numpy as np\n",
        "from google.colab import data_table\n",
        "#here shuffle the final data\n",
        "#df = pd.read_csv('/content/data/finalData.csv')\n",
        "#df.sample(frac=1).reset_index(drop=True)\n",
        "\n",
        "#data_table.DataTable(df.sample(frac=1).reset_index(drop=True),include_index=False, num_rows_per_page=10)\n",
        "#df.to_csv(\"/content/output/shuffledData.csv\", sep='\\t')\n",
        "\n",
        "\n",
        "#splitting data into train, test and val datasets\n",
        "iris = pd.read_csv('/content/data/models/M4/Dataset-test.csv') \n",
        "\n",
        "# one line split only into two datasets train and test without validation dataset\n",
        "#train, validation, test = np.split(iris.sample(frac=1), [int(.7*len(iris)),int(.6*len(iris))])\n",
        "\n",
        "# one line split only into two datasets train 70% and test 20% validation 10% dataset\n",
        "train, val, test = np.split(iris.sample(frac=1), [int(.7*len(iris)),int(.75*len(iris))])\n",
        "\n",
        "data_table.DataTable(iris,include_index=False, num_rows_per_page=10)\n",
        "\n",
        "\n",
        "df = pd.DataFrame(train, columns = ['text', 'label'])\n",
        "df.to_csv('/content/data/models/M4/train.csv', index=False)\n",
        "\n",
        "df = pd.DataFrame(test, columns = ['text', 'label'])\n",
        "df.to_csv('/content/data/models/M4/test.csv', index=False)\n",
        "\n",
        "df = pd.DataFrame(val, columns = ['text', 'label'])\n",
        "df.to_csv('/content/data/models/M4/val.csv', index=False)\n",
        "\n",
        "\n"
      ],
      "metadata": {
        "id": "rpVCSFrGXlKh"
      },
      "execution_count": null,
      "outputs": []
    },
    {
      "cell_type": "code",
      "source": [
        "# read number of rows from csv file and append into csv file\n",
        "\n",
        "import itertools\n",
        "import pandas as pd\n",
        "import numpy as np\n",
        "from google.colab import data_table\n",
        "\n",
        "#read dataset from their paper\n",
        "data = pd.read_csv('/content/data/models/Dataset.csv',nrows=2000)\n",
        "\n",
        "data_table.DataTable(data,include_index=False, num_rows_per_page=10)\n",
        "\n",
        "df = pd.DataFrame(data, columns = ['text', 'label'])\n",
        "df.to_csv('/content/data/models/M3/2000rows.csv', index=False)\n",
        "\n",
        "\n"
      ],
      "metadata": {
        "id": "XlLTgAKxfisO"
      },
      "execution_count": null,
      "outputs": []
    },
    {
      "cell_type": "code",
      "source": [
        "import pandas as pd\n",
        "import numpy as np\n",
        "from google.colab import data_table\n",
        "\n",
        "#merge 2 csv files\n",
        "data1=pd.read_csv('/content/data/models/M1/train.csv')\n",
        "data2=pd.read_csv('/content/data/models/M3/2000rows.csv')\n",
        "\n",
        "df1 = pd.DataFrame(data1, columns = ['text', 'label'])\n",
        "df2 = pd.DataFrame(data1, columns = ['text', 'label'])\n",
        "#out = df2.append(df1)\n",
        "\n",
        "out=pd.merge(df1, df2)\n",
        "\n",
        "df = pd.DataFrame(out, columns = ['text', 'label'])\n",
        "#df.to_csv('/content/data/models/M3/train.csv', index=False)\n",
        "data_table.DataTable(out,include_index=False, num_rows_per_page=10)\n",
        "\n",
        "\n",
        "#with open('C:/JIRA Excel File/result.csv', 'w', encoding='utf-8') as f:\n",
        " #   out.to_csv(f, index=False)"
      ],
      "metadata": {
        "id": "Tou1ZR0wpWSb"
      },
      "execution_count": null,
      "outputs": []
    }
  ],
  "metadata": {
    "colab": {
      "collapsed_sections": [],
      "name": "Welcome To Colaboratory",
      "provenance": [],
      "background_execution": "on",
      "include_colab_link": true
    },
    "kernelspec": {
      "display_name": "Python 3",
      "name": "python3"
    },
    "gpuClass": "standard"
  },
  "nbformat": 4,
  "nbformat_minor": 0
}